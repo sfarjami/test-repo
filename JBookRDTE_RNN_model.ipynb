{
 "cells": [
  {
   "cell_type": "code",
   "execution_count": 1,
   "metadata": {},
   "outputs": [],
   "source": [
    "import numpy as np\n",
    "import pandas as pd\n",
    "pd.options.mode.chained_assignment = None\n",
    "\n",
    "\n",
    "import matplotlib.pyplot as plt\n",
    "%matplotlib inline\n",
    "\n",
    "import warnings\n",
    "warnings.filterwarnings(\"ignore\", category=DeprecationWarning)\n",
    "\n",
    "from imblearn.over_sampling import SMOTE"
   ]
  },
  {
   "cell_type": "markdown",
   "metadata": {},
   "source": [
    "### Read and Explore Data"
   ]
  },
  {
   "cell_type": "code",
   "execution_count": 48,
   "metadata": {},
   "outputs": [
    {
     "data": {
      "text/html": [
       "<div>\n",
       "<style scoped>\n",
       "    .dataframe tbody tr th:only-of-type {\n",
       "        vertical-align: middle;\n",
       "    }\n",
       "\n",
       "    .dataframe tbody tr th {\n",
       "        vertical-align: top;\n",
       "    }\n",
       "\n",
       "    .dataframe thead th {\n",
       "        text-align: right;\n",
       "    }\n",
       "</style>\n",
       "<table border=\"1\" class=\"dataframe\">\n",
       "  <thead>\n",
       "    <tr style=\"text-align: right;\">\n",
       "      <th></th>\n",
       "      <th>Text</th>\n",
       "      <th>AI</th>\n",
       "      <th>AI Stack</th>\n",
       "    </tr>\n",
       "  </thead>\n",
       "  <tbody>\n",
       "    <tr>\n",
       "      <th>0</th>\n",
       "      <td>This PE supports basic research at the Army la...</td>\n",
       "      <td>0</td>\n",
       "      <td>NaN</td>\n",
       "    </tr>\n",
       "    <tr>\n",
       "      <th>1</th>\n",
       "      <td>This Project funds basic research within the A...</td>\n",
       "      <td>0</td>\n",
       "      <td>NaN</td>\n",
       "    </tr>\n",
       "    <tr>\n",
       "      <th>2</th>\n",
       "      <td>Funds basic research in chemistry, biology, bi...</td>\n",
       "      <td>0</td>\n",
       "      <td>NaN</td>\n",
       "    </tr>\n",
       "    <tr>\n",
       "      <th>3</th>\n",
       "      <td>Funds basic research in weapons component deve...</td>\n",
       "      <td>0</td>\n",
       "      <td>NaN</td>\n",
       "    </tr>\n",
       "    <tr>\n",
       "      <th>4</th>\n",
       "      <td>Funds basic research in ground vehicle technol...</td>\n",
       "      <td>0</td>\n",
       "      <td>NaN</td>\n",
       "    </tr>\n",
       "  </tbody>\n",
       "</table>\n",
       "</div>"
      ],
      "text/plain": [
       "                                                Text  AI AI Stack\n",
       "0  This PE supports basic research at the Army la...   0      NaN\n",
       "1  This Project funds basic research within the A...   0      NaN\n",
       "2  Funds basic research in chemistry, biology, bi...   0      NaN\n",
       "3  Funds basic research in weapons component deve...   0      NaN\n",
       "4  Funds basic research in ground vehicle technol...   0      NaN"
      ]
     },
     "execution_count": 48,
     "metadata": {},
     "output_type": "execute_result"
    }
   ],
   "source": [
    "label_path = \"jbookRDTELabel.csv\"\n",
    "jbook = pd.read_csv(label_path)\n",
    "jbook.head()"
   ]
  },
  {
   "cell_type": "code",
   "execution_count": 49,
   "metadata": {},
   "outputs": [],
   "source": [
    "jbook = pd.read_csv(label_path) "
   ]
  },
  {
   "cell_type": "code",
   "execution_count": 50,
   "metadata": {},
   "outputs": [
    {
     "data": {
      "text/plain": [
       "Text         171\n",
       "AI             0\n",
       "AI Stack    6268\n",
       "dtype: int64"
      ]
     },
     "execution_count": 50,
     "metadata": {},
     "output_type": "execute_result"
    }
   ],
   "source": [
    "jbook.isna().sum()"
   ]
  },
  {
   "cell_type": "code",
   "execution_count": 51,
   "metadata": {},
   "outputs": [],
   "source": [
    "jbook.dropna(subset=['Text'], inplace=True)"
   ]
  },
  {
   "cell_type": "code",
   "execution_count": 6,
   "metadata": {},
   "outputs": [
    {
     "data": {
      "text/plain": [
       "Text           0\n",
       "AI             0\n",
       "AI Stack    6097\n",
       "dtype: int64"
      ]
     },
     "execution_count": 6,
     "metadata": {},
     "output_type": "execute_result"
    }
   ],
   "source": [
    "jbook.isna().sum()"
   ]
  },
  {
   "cell_type": "code",
   "execution_count": 7,
   "metadata": {},
   "outputs": [
    {
     "data": {
      "text/plain": [
       "(7734, 3)"
      ]
     },
     "execution_count": 7,
     "metadata": {},
     "output_type": "execute_result"
    }
   ],
   "source": [
    "jbook.shape"
   ]
  },
  {
   "cell_type": "code",
   "execution_count": 8,
   "metadata": {},
   "outputs": [
    {
     "data": {
      "text/plain": [
       "0    0.788208\n",
       "1    0.211792\n",
       "Name: AI, dtype: float64"
      ]
     },
     "execution_count": 8,
     "metadata": {},
     "output_type": "execute_result"
    }
   ],
   "source": [
    "jbook.AI.value_counts(normalize=True)"
   ]
  },
  {
   "cell_type": "code",
   "execution_count": 9,
   "metadata": {},
   "outputs": [
    {
     "data": {
      "text/plain": [
       "Autonomy                          463\n",
       "Machine Learning                  214\n",
       "Modeling                          208\n",
       "Human AI Interaction              161\n",
       "Decision Support                  134\n",
       "Devices                           112\n",
       "Massive Data Management           109\n",
       "Autonomy; Human AI Interaction     77\n",
       "Planning & Acting                  77\n",
       "Planning and Acting                57\n",
       "Ethics                             14\n",
       "Human Ai Interaction                6\n",
       "Computing                           3\n",
       "Compute                             1\n",
       "Name: AI Stack, dtype: int64"
      ]
     },
     "execution_count": 9,
     "metadata": {},
     "output_type": "execute_result"
    }
   ],
   "source": [
    "ai_stack = jbook[jbook.AI == 1]['AI Stack']\n",
    "\n",
    "ai_stack.value_counts()"
   ]
  },
  {
   "cell_type": "code",
   "execution_count": 10,
   "metadata": {},
   "outputs": [
    {
     "data": {
      "text/plain": [
       "Autonomy                          463\n",
       "Machine Learning                  214\n",
       "Modeling                          208\n",
       "Human AI Interaction              167\n",
       "Decision Support                  134\n",
       "Planning & Acting                 134\n",
       "Devices                           112\n",
       "Massive Data Management           109\n",
       "Autonomy; Human AI Interaction     77\n",
       "Ethics                             14\n",
       "Computing                           4\n",
       "Name: AI Stack, dtype: int64"
      ]
     },
     "execution_count": 10,
     "metadata": {},
     "output_type": "execute_result"
    }
   ],
   "source": [
    "ai_stack.replace('Human Ai Interaction', 'Human AI Interaction', inplace=True)\n",
    "ai_stack.replace('Planning and Acting', 'Planning & Acting', inplace=True)\n",
    "ai_stack.replace('Compute', 'Computing', inplace=True)\n",
    "\n",
    "ai_stack.value_counts()"
   ]
  },
  {
   "cell_type": "code",
   "execution_count": 12,
   "metadata": {},
   "outputs": [
    {
     "data": {
      "text/plain": [
       "<AxesSubplot:ylabel='AI Stack'>"
      ]
     },
     "execution_count": 12,
     "metadata": {},
     "output_type": "execute_result"
    },
    {
     "data": {
      "image/png": "[encoded data removed]",
      "text/plain": [
       "<Figure size 864x576 with 1 Axes>"
      ]
     },
     "metadata": {},
     "output_type": "display_data"
    }
   ],
   "source": [
    "pie, ax = plt.subplots(figsize=[12,8])\n",
    "ai_stack.value_counts().plot.pie(autopct=\"%.1f%%\")\n",
    "ax.set_ylabel('')"
   ]
  },
  {
   "cell_type": "markdown",
   "metadata": {},
   "source": [
    "### Select and Group Relevant Features"
   ]
  },
  {
   "cell_type": "code",
   "execution_count": 52,
   "metadata": {},
   "outputs": [],
   "source": [
    "X = jbook.Text\n",
    "y = jbook.AI"
   ]
  },
  {
   "cell_type": "code",
   "execution_count": 77,
   "metadata": {},
   "outputs": [],
   "source": [
    "X_train, X_test, y_train, y_test = train_test_split(X, y, test_size=0.1, random_state=42, stratify=y)"
   ]
  },
  {
   "cell_type": "code",
   "execution_count": 12,
   "metadata": {},
   "outputs": [
    {
     "name": "stdout",
     "output_type": "stream",
     "text": [
      "0    4877\n",
      "1    1310\n",
      "Name: AI, dtype: int64\n",
      "0    1219\n",
      "1     328\n",
      "Name: AI, dtype: int64\n"
     ]
    }
   ],
   "source": [
    "print(y_train.value_counts())\n",
    "print(y_test.value_counts())"
   ]
  },
  {
   "cell_type": "code",
   "execution_count": null,
   "metadata": {},
   "outputs": [],
   "source": [
    "# use oversampling to balance AI labels\n",
    "# smote = SMOTE()\n",
    "# X_train_sm, y_train_sm = smote.fit_sample(X_train, y_train)\n",
    "# print(y_train_sm.value_counts())"
   ]
  },
  {
   "cell_type": "markdown",
   "metadata": {},
   "source": [
    "# Build a RNN Model"
   ]
  },
  {
   "cell_type": "markdown",
   "metadata": {},
   "source": [
    "#### Prep data for Modeling"
   ]
  },
  {
   "cell_type": "code",
   "execution_count": 108,
   "metadata": {},
   "outputs": [],
   "source": [
    "# Import the tools we will need from keras\n",
    "import tensorflow as tf\n",
    "from tensorflow import keras\n",
    "from tensorflow.keras import layers\n",
    "from tensorflow.keras.wrappers.scikit_learn import KerasClassifier\n",
    "from tensorflow.keras.models import load_model\n",
    "from tensorflow.keras.optimizers import Adam\n",
    "from kerastuner.tuners import RandomSearch\n",
    "from tensorflow.keras.layers import Dropout\n",
    "from keras.preprocessing.text import Tokenizer\n",
    "from keras.preprocessing.sequence import pad_sequences\n",
    "from sklearn import metrics"
   ]
  },
  {
   "cell_type": "code",
   "execution_count": 79,
   "metadata": {},
   "outputs": [],
   "source": [
    "# Initialize and fit the tokenizer\n",
    "tokenizer = Tokenizer()\n",
    "tokenizer.fit_on_texts(X_train)"
   ]
  },
  {
   "cell_type": "code",
   "execution_count": 80,
   "metadata": {},
   "outputs": [],
   "source": [
    "# Use the tokenizer to transform the text in the training and test sets\n",
    "X_train_seq = tokenizer.texts_to_sequences(X_train)\n",
    "X_test_seq = tokenizer.texts_to_sequences(X_test)"
   ]
  },
  {
   "cell_type": "code",
   "execution_count": 81,
   "metadata": {},
   "outputs": [
    {
     "data": {
      "text/plain": [
       "380"
      ]
     },
     "execution_count": 81,
     "metadata": {},
     "output_type": "execute_result"
    }
   ],
   "source": [
    "# What do these sequences look like?\n",
    "len(X_train_seq[0])"
   ]
  },
  {
   "cell_type": "code",
   "execution_count": 117,
   "metadata": {},
   "outputs": [],
   "source": [
    "# Pad the sequences so each sequence is the same length\n",
    "X_train_seq_padded = pad_sequences(X_train_seq, 300)\n",
    "X_test_seq_padded = pad_sequences(X_test_seq, 300)"
   ]
  },
  {
   "cell_type": "code",
   "execution_count": 83,
   "metadata": {},
   "outputs": [
    {
     "data": {
      "text/plain": [
       "array([   0,    0,    0,    0,    0,    0,    0,    0,    0,    0,    0,\n",
       "          0,    0,    0,    0,    0,    0,    0,    0,    0, 6171,  198,\n",
       "       3982, 1631, 1631,  320,   34, 4359,  644,  143,  105, 1172,   26,\n",
       "        230,  434, 1631,  423,   20,  230, 3525,   13,   65,   99,   17,\n",
       "         20,  313, 2313, 2185,   28,  239,    2,  136,  588,   34,    6,\n",
       "        960,    3,  297, 1172,   77, 6172, 7433,    1, 2227, 3054, 8536,\n",
       "          5,    2, 2501,    4,  134,   61, 4359,  644,  143,   13,   10,\n",
       "         25,    4,  548,    1, 2502, 1071, 1648, 1863, 2092,  239, 1287,\n",
       "        334,   62,   14,    6,    2,  229,    1, 2819,  703,    3, 2733,\n",
       "          1,  804,    5,  394,  391,  244,   11, 1153,  423,    1, 2313,\n",
       "       1062,    4, 1172,   77, 6172, 7433,  194,    2,  321,   87,    4,\n",
       "        134,   61,    1, 2734, 4153,   61,  230, 3525,  395,  230, 2819,\n",
       "          1,  740,  703,    3,  692, 6807, 5270,  258,    3, 8537,  295,\n",
       "       2313,    1, 2735,  230, 3525,   66,  101,  566, 1234,    4,    2,\n",
       "        171,   31,   55,    3,   81,  126,  223,  740, 3142,    1,  154,\n",
       "        533, 1585,    2,   31, 1906,    1, 1631,  732, 2678,   76,    2,\n",
       "       4918, 4919,  805, 4920,    2,  108,    4,    2,  151,  523,  953,\n",
       "       1603, 2503,    6,  101,  230, 1906,    1, 1631,  140,    5,  630,\n",
       "       2678,   13,    2, 1794,    3,  965,    1,  382,   18,   19,   43,\n",
       "        128,  860,  149,    1,   99,   52,   14,  833,    2, 2554,  260,\n",
       "          1,  230, 2678, 3810,    1, 2679,    5,    2,   19,    4,  287,\n",
       "          1,  618,    4, 1313,    3,  371,    1,  681, 1863,   22,    6,\n",
       "        839, 1154, 4360,  260,  230,    1,  924, 2679,  271,    4,   33,\n",
       "         23, 1947,    3,    2,  719,    4,    2, 1863,  543, 1323,  150,\n",
       "        248,  281,    1, 7434,    2,  229,   28,  626,   62,  231,   27,\n",
       "          2,  275,    2, 2678,   55, 1734,   17, 1072,  100,  830, 1907,\n",
       "          1, 2820,  935,  948,    3,  439,   71,  465,   28,   50, 1948,\n",
       "       1324,    7,   21,  860,  149,   40,    5,    2,  645,    4,  143,\n",
       "       4624,  438, 6171,  198, 3982, 1631,   66,  121,  247,   74,    1,\n",
       "       1138,    6,  230, 3525,  248,  370, 2504,   25, 2314,   62,   74,\n",
       "          7,   21,   40,    5,    2,  645,    4,   97, 4921,  438,    6,\n",
       "         15, 8538,   12,   42, 2678,    2,  258,    3, 2969,  646,   18,\n",
       "         57,    3,  290,  830, 6173, 1421,    1, 2678, 1234,    1,   71,\n",
       "         46, 1908, 2678,   66,    2,  172,    4, 1631,    1, 1906,  140,\n",
       "        149,  357,  314, 6808,    1,  281,  343,   14,    3,  230,  113,\n",
       "       1173,    1, 3811,    4, 1377, 1682, 1212,    3,  230,    1,  198,\n",
       "        230,  276, 2266, 4361])"
      ]
     },
     "execution_count": 83,
     "metadata": {},
     "output_type": "execute_result"
    }
   ],
   "source": [
    "# What do these padded sequences look like?\n",
    "X_train_seq_padded[0]"
   ]
  },
  {
   "cell_type": "markdown",
   "metadata": {},
   "source": [
    "## Tuning using Keras Tuner"
   ]
  },
  {
   "cell_type": "code",
   "execution_count": 118,
   "metadata": {},
   "outputs": [],
   "source": [
    "def tune_model(hp):\n",
    "\n",
    "    # Number of 1st hidden layer neurons\n",
    "    units = hp.Int('units',        #<- Number of neurons\n",
    "                   min_value = 8,  #<- min value\n",
    "                   max_value = 64, #<- max value\n",
    "                   step = 8)\n",
    "\n",
    "    # Tuning activation function for 1st hidden layer\n",
    "    activation = hp.Choice('activation', #<- Activation function\n",
    "                           [             #<- Types of activation functions\n",
    "                               'relu',\n",
    "                               'tanh',\n",
    "                               'sigmoid'\n",
    "                           ])\n",
    "\n",
    "    dropout_1 = hp.Float('dropout_1',\n",
    "                         min_value = 0.0,\n",
    "                         max_value = 0.5,\n",
    "                         default = 0.25,\n",
    "                         step = 0.05)\n",
    "\n",
    "    # Tuning optimizer\n",
    "    optimizer = hp.Choice('optimizer', ['adam', 'sgd', 'rmsprop'])\n",
    "\n",
    "    # Tuning learning rate\n",
    "    lr = hp.Choice('learning_rate', [1e-2, 1e-3, 1e-4])\n",
    "    \n",
    "    model = keras.Sequential() \n",
    "\n",
    "    model.add(keras.layers.Embedding(len(tokenizer.index_word)+1, units))\n",
    "    \n",
    "    model.add(keras.layers.LSTM(units))\n",
    "\n",
    "    # Tuning number of neurons in 2nd hidden layer\n",
    "    model.add(keras.layers.Dense(units = units,\n",
    "                                 activation = activation))\n",
    "\n",
    "    # Tuning rate hyperparameter of dropout layer\n",
    "    model.add(Dropout(rate = dropout_1))\n",
    "\n",
    "    # Add output layer\n",
    "    model.add(keras.layers.Dense(1, activation = 'sigmoid'))\n",
    "\n",
    "    # Compile model.\n",
    "    model.compile(optimizer = optimizer, loss = 'binary_crossentropy', metrics = METRICS)\n",
    "\n",
    "    return model"
   ]
  },
  {
   "cell_type": "code",
   "execution_count": 119,
   "metadata": {},
   "outputs": [],
   "source": [
    "# Select metrics\n",
    "\n",
    "METRICS = [\n",
    "tf.keras.metrics.TruePositives(name='tp'),\n",
    "tf.keras.metrics.FalsePositives(name='fp'),\n",
    "tf.keras.metrics.TrueNegatives(name='tn'),\n",
    "tf.keras.metrics.FalseNegatives(name='fn'),\n",
    "tf.keras.metrics.BinaryAccuracy(name='accuracy'),\n",
    "tf.keras.metrics.Precision(name='precision'),\n",
    "tf.keras.metrics.Recall(name='recall'),\n",
    "tf.keras.metrics.AUC(name='auc')\n",
    "]"
   ]
  },
  {
   "cell_type": "code",
   "execution_count": 120,
   "metadata": {},
   "outputs": [
    {
     "name": "stdout",
     "output_type": "stream",
     "text": [
      "INFO:tensorflow:Reloading Oracle from existing project final_tuned_model\\final_tuned_model\\oracle.json\n"
     ]
    }
   ],
   "source": [
    "# Define the tuner\n",
    "\n",
    "MAX_TRIALS = 10\n",
    "EXECUTIONS_PER_TRIAL = 5\n",
    "tuner = RandomSearch(\n",
    "    tune_model,\n",
    "    objective = 'val_accuracy',\n",
    "    max_trials = MAX_TRIALS,\n",
    "    executions_per_trial = EXECUTIONS_PER_TRIAL,\n",
    "    directory = 'final_tuned_model',\n",
    "    project_name = 'final_tuned_model',\n",
    "    seed = 1\n",
    ")"
   ]
  },
  {
   "cell_type": "code",
   "execution_count": 121,
   "metadata": {},
   "outputs": [
    {
     "name": "stdout",
     "output_type": "stream",
     "text": [
      "Search space summary\n",
      "Default search space size: 5\n",
      "units (Int)\n",
      "{'default': None, 'conditions': [], 'min_value': 8, 'max_value': 64, 'step': 8, 'sampling': None}\n",
      "activation (Choice)\n",
      "{'default': 'relu', 'conditions': [], 'values': ['relu', 'tanh', 'sigmoid'], 'ordered': False}\n",
      "dropout_1 (Float)\n",
      "{'default': 0.25, 'conditions': [], 'min_value': 0.0, 'max_value': 0.5, 'step': 0.05, 'sampling': None}\n",
      "optimizer (Choice)\n",
      "{'default': 'adam', 'conditions': [], 'values': ['adam', 'sgd', 'rmsprop'], 'ordered': False}\n",
      "learning_rate (Choice)\n",
      "{'default': 0.01, 'conditions': [], 'values': [0.01, 0.001, 0.0001], 'ordered': True}\n"
     ]
    }
   ],
   "source": [
    "#View search space summary\n",
    "\n",
    "tuner.search_space_summary()"
   ]
  },
  {
   "cell_type": "code",
   "execution_count": 122,
   "metadata": {},
   "outputs": [
    {
     "name": "stdout",
     "output_type": "stream",
     "text": [
      "\n",
      "Search: Running Trial #1\n",
      "\n",
      "Hyperparameter    |Value             |Best Value So Far \n",
      "units             |16                |?                 \n",
      "activation        |relu              |?                 \n",
      "dropout_1         |0.1               |?                 \n",
      "optimizer         |adam              |?                 \n",
      "learning_rate     |0.0001            |?                 \n",
      "\n",
      "Epoch 1/5\n",
      "218/218 - 16s - loss: 0.4460 - tp: 199.0000 - fp: 99.0000 - tn: 5387.0000 - fn: 1275.0000 - accuracy: 0.8026 - precision: 0.6678 - recall: 0.1350 - auc: 0.7513 - val_loss: 0.3152 - val_tp: 100.0000 - val_fp: 43.0000 - val_tn: 567.0000 - val_fn: 64.0000 - val_accuracy: 0.8618 - val_precision: 0.6993 - val_recall: 0.6098 - val_auc: 0.9067\n",
      "Epoch 2/5\n",
      "218/218 - 15s - loss: 0.2797 - tp: 1046.0000 - fp: 380.0000 - tn: 5106.0000 - fn: 428.0000 - accuracy: 0.8839 - precision: 0.7335 - recall: 0.7096 - auc: 0.9209 - val_loss: 0.3304 - val_tp: 79.0000 - val_fp: 24.0000 - val_tn: 586.0000 - val_fn: 85.0000 - val_accuracy: 0.8592 - val_precision: 0.7670 - val_recall: 0.4817 - val_auc: 0.9132\n",
      "Epoch 3/5\n",
      "218/218 - 15s - loss: 0.2058 - tp: 1174.0000 - fp: 246.0000 - tn: 5240.0000 - fn: 300.0000 - accuracy: 0.9216 - precision: 0.8268 - recall: 0.7965 - auc: 0.9580 - val_loss: 0.3325 - val_tp: 106.0000 - val_fp: 37.0000 - val_tn: 573.0000 - val_fn: 58.0000 - val_accuracy: 0.8773 - val_precision: 0.7413 - val_recall: 0.6463 - val_auc: 0.9071\n",
      "Epoch 4/5\n",
      "218/218 - 15s - loss: 0.1676 - tp: 1253.0000 - fp: 226.0000 - tn: 5260.0000 - fn: 221.0000 - accuracy: 0.9358 - precision: 0.8472 - recall: 0.8501 - auc: 0.9729 - val_loss: 0.3448 - val_tp: 111.0000 - val_fp: 42.0000 - val_tn: 568.0000 - val_fn: 53.0000 - val_accuracy: 0.8773 - val_precision: 0.7255 - val_recall: 0.6768 - val_auc: 0.9032\n",
      "Epoch 5/5\n",
      "218/218 - 14s - loss: 0.1423 - tp: 1288.0000 - fp: 189.0000 - tn: 5297.0000 - fn: 186.0000 - accuracy: 0.9461 - precision: 0.8720 - recall: 0.8738 - auc: 0.9806 - val_loss: 0.3449 - val_tp: 108.0000 - val_fp: 45.0000 - val_tn: 565.0000 - val_fn: 56.0000 - val_accuracy: 0.8695 - val_precision: 0.7059 - val_recall: 0.6585 - val_auc: 0.8966\n",
      "Epoch 1/5\n",
      "218/218 - 18s - loss: 0.4526 - tp: 250.0000 - fp: 105.0000 - tn: 5991.0000 - fn: 1388.0000 - accuracy: 0.8070 - precision: 0.7042 - recall: 0.1526 - auc: 0.7567 - val_loss: 0.3466 - val_tp: 69.0000 - val_fp: 35.0000 - val_tn: 575.0000 - val_fn: 95.0000 - val_accuracy: 0.8320 - val_precision: 0.6635 - val_recall: 0.4207 - val_auc: 0.8816\n",
      "Epoch 2/5\n",
      "218/218 - 15s - loss: 0.2829 - tp: 986.0000 - fp: 358.0000 - tn: 5128.0000 - fn: 488.0000 - accuracy: 0.8784 - precision: 0.7336 - recall: 0.6689 - auc: 0.9226 - val_loss: 0.3273 - val_tp: 107.0000 - val_fp: 46.0000 - val_tn: 564.0000 - val_fn: 57.0000 - val_accuracy: 0.8669 - val_precision: 0.6993 - val_recall: 0.6524 - val_auc: 0.9034\n",
      "Epoch 3/5\n",
      "218/218 - 15s - loss: 0.2034 - tp: 1200.0000 - fp: 299.0000 - tn: 5187.0000 - fn: 274.0000 - accuracy: 0.9177 - precision: 0.8005 - recall: 0.8141 - auc: 0.9607 - val_loss: 0.3528 - val_tp: 109.0000 - val_fp: 50.0000 - val_tn: 560.0000 - val_fn: 55.0000 - val_accuracy: 0.8643 - val_precision: 0.6855 - val_recall: 0.6646 - val_auc: 0.8920\n",
      "Epoch 4/5\n",
      "218/218 - 14s - loss: 0.1652 - tp: 1271.0000 - fp: 251.0000 - tn: 5235.0000 - fn: 203.0000 - accuracy: 0.9348 - precision: 0.8351 - recall: 0.8623 - auc: 0.9741 - val_loss: 0.3959 - val_tp: 99.0000 - val_fp: 51.0000 - val_tn: 559.0000 - val_fn: 65.0000 - val_accuracy: 0.8501 - val_precision: 0.6600 - val_recall: 0.6037 - val_auc: 0.8750\n",
      "Epoch 5/5\n",
      "218/218 - 14s - loss: 0.1411 - tp: 1294.0000 - fp: 208.0000 - tn: 5278.0000 - fn: 180.0000 - accuracy: 0.9443 - precision: 0.8615 - recall: 0.8779 - auc: 0.9817 - val_loss: 0.4200 - val_tp: 109.0000 - val_fp: 56.0000 - val_tn: 554.0000 - val_fn: 55.0000 - val_accuracy: 0.8566 - val_precision: 0.6606 - val_recall: 0.6646 - val_auc: 0.8783\n",
      "Epoch 1/5\n",
      "218/218 - 20s - loss: 0.4697 - tp: 253.0000 - fp: 141.0000 - tn: 5955.0000 - fn: 1385.0000 - accuracy: 0.8027 - precision: 0.6421 - recall: 0.1545 - auc: 0.7305 - val_loss: 0.3608 - val_tp: 105.0000 - val_fp: 69.0000 - val_tn: 541.0000 - val_fn: 59.0000 - val_accuracy: 0.8346 - val_precision: 0.6034 - val_recall: 0.6402 - val_auc: 0.8780\n",
      "Epoch 2/5\n",
      "218/218 - 14s - loss: 0.2856 - tp: 996.0000 - fp: 367.0000 - tn: 5119.0000 - fn: 478.0000 - accuracy: 0.8786 - precision: 0.7307 - recall: 0.6757 - auc: 0.9186 - val_loss: 0.3057 - val_tp: 110.0000 - val_fp: 49.0000 - val_tn: 561.0000 - val_fn: 54.0000 - val_accuracy: 0.8669 - val_precision: 0.6918 - val_recall: 0.6707 - val_auc: 0.9062\n",
      "Epoch 3/5\n",
      "218/218 - 15s - loss: 0.2075 - tp: 1168.0000 - fp: 270.0000 - tn: 5216.0000 - fn: 306.0000 - accuracy: 0.9172 - precision: 0.8122 - recall: 0.7924 - auc: 0.9587 - val_loss: 0.3313 - val_tp: 104.0000 - val_fp: 42.0000 - val_tn: 568.0000 - val_fn: 60.0000 - val_accuracy: 0.8682 - val_precision: 0.7123 - val_recall: 0.6341 - val_auc: 0.8970\n",
      "Epoch 4/5\n",
      "218/218 - 15s - loss: 0.1642 - tp: 1253.0000 - fp: 233.0000 - tn: 5253.0000 - fn: 221.0000 - accuracy: 0.9348 - precision: 0.8432 - recall: 0.8501 - auc: 0.9747 - val_loss: 0.3659 - val_tp: 105.0000 - val_fp: 47.0000 - val_tn: 563.0000 - val_fn: 59.0000 - val_accuracy: 0.8630 - val_precision: 0.6908 - val_recall: 0.6402 - val_auc: 0.8850\n",
      "Epoch 5/5\n",
      "218/218 - 15s - loss: 0.1385 - tp: 1281.0000 - fp: 188.0000 - tn: 5298.0000 - fn: 193.0000 - accuracy: 0.9453 - precision: 0.8720 - recall: 0.8691 - auc: 0.9822 - val_loss: 0.4076 - val_tp: 98.0000 - val_fp: 36.0000 - val_tn: 574.0000 - val_fn: 66.0000 - val_accuracy: 0.8682 - val_precision: 0.7313 - val_recall: 0.5976 - val_auc: 0.8810\n",
      "Epoch 1/5\n",
      "218/218 - 18s - loss: 0.4578 - tp: 227.0000 - fp: 86.0000 - tn: 6010.0000 - fn: 1411.0000 - accuracy: 0.8064 - precision: 0.7252 - recall: 0.1386 - auc: 0.7470 - val_loss: 0.3459 - val_tp: 108.0000 - val_fp: 60.0000 - val_tn: 550.0000 - val_fn: 56.0000 - val_accuracy: 0.8501 - val_precision: 0.6429 - val_recall: 0.6585 - val_auc: 0.8915\n",
      "Epoch 2/5\n",
      "218/218 - 14s - loss: 0.2818 - tp: 1004.0000 - fp: 337.0000 - tn: 5149.0000 - fn: 470.0000 - accuracy: 0.8841 - precision: 0.7487 - recall: 0.6811 - auc: 0.9228 - val_loss: 0.3175 - val_tp: 105.0000 - val_fp: 44.0000 - val_tn: 566.0000 - val_fn: 59.0000 - val_accuracy: 0.8669 - val_precision: 0.7047 - val_recall: 0.6402 - val_auc: 0.9024\n",
      "Epoch 3/5\n",
      "218/218 - 16s - loss: 0.2030 - tp: 1196.0000 - fp: 282.0000 - tn: 5204.0000 - fn: 278.0000 - accuracy: 0.9195 - precision: 0.8092 - recall: 0.8114 - auc: 0.9603 - val_loss: 0.3394 - val_tp: 109.0000 - val_fp: 57.0000 - val_tn: 553.0000 - val_fn: 55.0000 - val_accuracy: 0.8553 - val_precision: 0.6566 - val_recall: 0.6646 - val_auc: 0.8910\n",
      "Epoch 4/5\n",
      "218/218 - 16s - loss: 0.1606 - tp: 1268.0000 - fp: 246.0000 - tn: 5240.0000 - fn: 206.0000 - accuracy: 0.9351 - precision: 0.8375 - recall: 0.8602 - auc: 0.9766 - val_loss: 0.3974 - val_tp: 112.0000 - val_fp: 48.0000 - val_tn: 562.0000 - val_fn: 52.0000 - val_accuracy: 0.8708 - val_precision: 0.7000 - val_recall: 0.6829 - val_auc: 0.8894\n",
      "Epoch 5/5\n",
      "218/218 - 14s - loss: 0.1379 - tp: 1311.0000 - fp: 226.0000 - tn: 5260.0000 - fn: 163.0000 - accuracy: 0.9441 - precision: 0.8530 - recall: 0.8894 - auc: 0.9822 - val_loss: 0.3970 - val_tp: 106.0000 - val_fp: 50.0000 - val_tn: 560.0000 - val_fn: 58.0000 - val_accuracy: 0.8605 - val_precision: 0.6795 - val_recall: 0.6463 - val_auc: 0.8782\n",
      "Epoch 1/5\n",
      "218/218 - 19s - loss: 0.4887 - tp: 262.0000 - fp: 125.0000 - tn: 5971.0000 - fn: 1376.0000 - accuracy: 0.8059 - precision: 0.6770 - recall: 0.1600 - auc: 0.7044 - val_loss: 0.3451 - val_tp: 109.0000 - val_fp: 64.0000 - val_tn: 546.0000 - val_fn: 55.0000 - val_accuracy: 0.8463 - val_precision: 0.6301 - val_recall: 0.6646 - val_auc: 0.8899\n",
      "Epoch 2/5\n",
      "218/218 - 14s - loss: 0.2945 - tp: 991.0000 - fp: 348.0000 - tn: 5138.0000 - fn: 483.0000 - accuracy: 0.8806 - precision: 0.7401 - recall: 0.6723 - auc: 0.9122 - val_loss: 0.3276 - val_tp: 101.0000 - val_fp: 41.0000 - val_tn: 569.0000 - val_fn: 63.0000 - val_accuracy: 0.8656 - val_precision: 0.7113 - val_recall: 0.6159 - val_auc: 0.9010\n",
      "Epoch 3/5\n",
      "218/218 - 16s - loss: 0.2128 - tp: 1139.0000 - fp: 247.0000 - tn: 5239.0000 - fn: 335.0000 - accuracy: 0.9164 - precision: 0.8218 - recall: 0.7727 - auc: 0.9553 - val_loss: 0.3328 - val_tp: 112.0000 - val_fp: 52.0000 - val_tn: 558.0000 - val_fn: 52.0000 - val_accuracy: 0.8656 - val_precision: 0.6829 - val_recall: 0.6829 - val_auc: 0.9036\n",
      "Epoch 4/5\n",
      "218/218 - 15s - loss: 0.1674 - tp: 1224.0000 - fp: 203.0000 - tn: 5283.0000 - fn: 250.0000 - accuracy: 0.9349 - precision: 0.8577 - recall: 0.8304 - auc: 0.9734 - val_loss: 0.3656 - val_tp: 105.0000 - val_fp: 40.0000 - val_tn: 570.0000 - val_fn: 59.0000 - val_accuracy: 0.8721 - val_precision: 0.7241 - val_recall: 0.6402 - val_auc: 0.8921\n",
      "Epoch 5/5\n",
      "218/218 - 15s - loss: 0.1346 - tp: 1272.0000 - fp: 189.0000 - tn: 5297.0000 - fn: 202.0000 - accuracy: 0.9438 - precision: 0.8706 - recall: 0.8630 - auc: 0.9834 - val_loss: 0.4031 - val_tp: 113.0000 - val_fp: 51.0000 - val_tn: 559.0000 - val_fn: 51.0000 - val_accuracy: 0.8682 - val_precision: 0.6890 - val_recall: 0.6890 - val_auc: 0.8817\n",
      "\n",
      "Trial 1 Complete [00h 06m 32s]\n",
      "val_accuracy: 0.8710594296455383\n",
      "\n",
      "Best val_accuracy So Far: 0.8710594296455383\n",
      "Total elapsed time: 00h 06m 32s\n",
      "\n",
      "Search: Running Trial #2\n",
      "\n",
      "Hyperparameter    |Value             |Best Value So Far \n",
      "units             |56                |16                \n",
      "activation        |tanh              |relu              \n",
      "dropout_1         |0.1               |0.1               \n",
      "optimizer         |sgd               |adam              \n",
      "learning_rate     |0.0001            |0.0001            \n",
      "\n",
      "Epoch 1/5\n",
      "218/218 - 38s - loss: 0.5549 - tp: 117.0000 - fp: 70.0000 - tn: 6026.0000 - fn: 1521.0000 - accuracy: 0.7943 - precision: 0.6257 - recall: 0.0714 - auc: 0.5550 - val_loss: 0.5174 - val_tp: 0.0000e+00 - val_fp: 0.0000e+00 - val_tn: 610.0000 - val_fn: 164.0000 - val_accuracy: 0.7881 - val_precision: 0.0000e+00 - val_recall: 0.0000e+00 - val_auc: 0.5866\n",
      "Epoch 2/5\n",
      "218/218 - 32s - loss: 0.5168 - tp: 0.0000e+00 - fp: 0.0000e+00 - tn: 5486.0000 - fn: 1474.0000 - accuracy: 0.7882 - precision: 0.0000e+00 - recall: 0.0000e+00 - auc: 0.5070 - val_loss: 0.5152 - val_tp: 0.0000e+00 - val_fp: 0.0000e+00 - val_tn: 610.0000 - val_fn: 164.0000 - val_accuracy: 0.7881 - val_precision: 0.0000e+00 - val_recall: 0.0000e+00 - val_auc: 0.5962\n",
      "Epoch 3/5\n",
      "218/218 - 29s - loss: 0.5153 - tp: 0.0000e+00 - fp: 0.0000e+00 - tn: 5486.0000 - fn: 1474.0000 - accuracy: 0.7882 - precision: 0.0000e+00 - recall: 0.0000e+00 - auc: 0.5338 - val_loss: 0.5145 - val_tp: 0.0000e+00 - val_fp: 0.0000e+00 - val_tn: 610.0000 - val_fn: 164.0000 - val_accuracy: 0.7881 - val_precision: 0.0000e+00 - val_recall: 0.0000e+00 - val_auc: 0.6462\n",
      "Epoch 4/5\n",
      "218/218 - 30s - loss: 0.5148 - tp: 0.0000e+00 - fp: 0.0000e+00 - tn: 5486.0000 - fn: 1474.0000 - accuracy: 0.7882 - precision: 0.0000e+00 - recall: 0.0000e+00 - auc: 0.5399 - val_loss: 0.5136 - val_tp: 0.0000e+00 - val_fp: 0.0000e+00 - val_tn: 610.0000 - val_fn: 164.0000 - val_accuracy: 0.7881 - val_precision: 0.0000e+00 - val_recall: 0.0000e+00 - val_auc: 0.6475\n",
      "Epoch 5/5\n",
      "218/218 - 31s - loss: 0.5140 - tp: 0.0000e+00 - fp: 0.0000e+00 - tn: 5486.0000 - fn: 1474.0000 - accuracy: 0.7882 - precision: 0.0000e+00 - recall: 0.0000e+00 - auc: 0.5615 - val_loss: 0.5125 - val_tp: 0.0000e+00 - val_fp: 0.0000e+00 - val_tn: 610.0000 - val_fn: 164.0000 - val_accuracy: 0.7881 - val_precision: 0.0000e+00 - val_recall: 0.0000e+00 - val_auc: 0.6705\n",
      "Epoch 1/5\n",
      "218/218 - 34s - loss: 0.5606 - tp: 7.0000 - fp: 19.0000 - tn: 6077.0000 - fn: 1631.0000 - accuracy: 0.7867 - precision: 0.2692 - recall: 0.0043 - auc: 0.4850 - val_loss: 0.5197 - val_tp: 0.0000e+00 - val_fp: 0.0000e+00 - val_tn: 610.0000 - val_fn: 164.0000 - val_accuracy: 0.7881 - val_precision: 0.0000e+00 - val_recall: 0.0000e+00 - val_auc: 0.5779\n",
      "Epoch 2/5\n",
      "218/218 - 31s - loss: 0.5162 - tp: 0.0000e+00 - fp: 0.0000e+00 - tn: 5486.0000 - fn: 1474.0000 - accuracy: 0.7882 - precision: 0.0000e+00 - recall: 0.0000e+00 - auc: 0.5246 - val_loss: 0.5153 - val_tp: 0.0000e+00 - val_fp: 0.0000e+00 - val_tn: 610.0000 - val_fn: 164.0000 - val_accuracy: 0.7881 - val_precision: 0.0000e+00 - val_recall: 0.0000e+00 - val_auc: 0.5978\n",
      "Epoch 3/5\n",
      "218/218 - 30s - loss: 0.5153 - tp: 0.0000e+00 - fp: 0.0000e+00 - tn: 5486.0000 - fn: 1474.0000 - accuracy: 0.7882 - precision: 0.0000e+00 - recall: 0.0000e+00 - auc: 0.5349 - val_loss: 0.5149 - val_tp: 0.0000e+00 - val_fp: 0.0000e+00 - val_tn: 610.0000 - val_fn: 164.0000 - val_accuracy: 0.7881 - val_precision: 0.0000e+00 - val_recall: 0.0000e+00 - val_auc: 0.6334\n",
      "Epoch 4/5\n",
      "218/218 - 30s - loss: 0.5153 - tp: 0.0000e+00 - fp: 0.0000e+00 - tn: 5486.0000 - fn: 1474.0000 - accuracy: 0.7882 - precision: 0.0000e+00 - recall: 0.0000e+00 - auc: 0.5340 - val_loss: 0.5144 - val_tp: 0.0000e+00 - val_fp: 0.0000e+00 - val_tn: 610.0000 - val_fn: 164.0000 - val_accuracy: 0.7881 - val_precision: 0.0000e+00 - val_recall: 0.0000e+00 - val_auc: 0.6385\n",
      "Epoch 5/5\n",
      "218/218 - 29s - loss: 0.5147 - tp: 0.0000e+00 - fp: 0.0000e+00 - tn: 5486.0000 - fn: 1474.0000 - accuracy: 0.7882 - precision: 0.0000e+00 - recall: 0.0000e+00 - auc: 0.5505 - val_loss: 0.5139 - val_tp: 0.0000e+00 - val_fp: 0.0000e+00 - val_tn: 610.0000 - val_fn: 164.0000 - val_accuracy: 0.7881 - val_precision: 0.0000e+00 - val_recall: 0.0000e+00 - val_auc: 0.6726\n",
      "Epoch 1/5\n",
      "218/218 - 35s - loss: 0.5409 - tp: 4.0000 - fp: 20.0000 - tn: 6076.0000 - fn: 1634.0000 - accuracy: 0.7861 - precision: 0.1667 - recall: 0.0024 - auc: 0.5210 - val_loss: 0.5150 - val_tp: 0.0000e+00 - val_fp: 0.0000e+00 - val_tn: 610.0000 - val_fn: 164.0000 - val_accuracy: 0.7881 - val_precision: 0.0000e+00 - val_recall: 0.0000e+00 - val_auc: 0.6279\n",
      "Epoch 2/5\n",
      "218/218 - 30s - loss: 0.5159 - tp: 0.0000e+00 - fp: 0.0000e+00 - tn: 5486.0000 - fn: 1474.0000 - accuracy: 0.7882 - precision: 0.0000e+00 - recall: 0.0000e+00 - auc: 0.5205 - val_loss: 0.5135 - val_tp: 0.0000e+00 - val_fp: 0.0000e+00 - val_tn: 610.0000 - val_fn: 164.0000 - val_accuracy: 0.7881 - val_precision: 0.0000e+00 - val_recall: 0.0000e+00 - val_auc: 0.6905\n",
      "Epoch 3/5\n",
      "218/218 - 30s - loss: 0.5143 - tp: 0.0000e+00 - fp: 0.0000e+00 - tn: 5486.0000 - fn: 1474.0000 - accuracy: 0.7882 - precision: 0.0000e+00 - recall: 0.0000e+00 - auc: 0.5506 - val_loss: 0.5119 - val_tp: 0.0000e+00 - val_fp: 0.0000e+00 - val_tn: 610.0000 - val_fn: 164.0000 - val_accuracy: 0.7881 - val_precision: 0.0000e+00 - val_recall: 0.0000e+00 - val_auc: 0.6805\n",
      "Epoch 4/5\n",
      "218/218 - 30s - loss: 0.5126 - tp: 0.0000e+00 - fp: 0.0000e+00 - tn: 5486.0000 - fn: 1474.0000 - accuracy: 0.7882 - precision: 0.0000e+00 - recall: 0.0000e+00 - auc: 0.5731 - val_loss: 0.5089 - val_tp: 0.0000e+00 - val_fp: 0.0000e+00 - val_tn: 610.0000 - val_fn: 164.0000 - val_accuracy: 0.7881 - val_precision: 0.0000e+00 - val_recall: 0.0000e+00 - val_auc: 0.7077\n",
      "Epoch 5/5\n",
      "218/218 - 30s - loss: 0.5085 - tp: 0.0000e+00 - fp: 0.0000e+00 - tn: 5486.0000 - fn: 1474.0000 - accuracy: 0.7882 - precision: 0.0000e+00 - recall: 0.0000e+00 - auc: 0.6261 - val_loss: 0.5037 - val_tp: 0.0000e+00 - val_fp: 0.0000e+00 - val_tn: 610.0000 - val_fn: 164.0000 - val_accuracy: 0.7881 - val_precision: 0.0000e+00 - val_recall: 0.0000e+00 - val_auc: 0.7218\n",
      "Epoch 1/5\n",
      "218/218 - 34s - loss: 0.5620 - tp: 1.0000 - fp: 10.0000 - tn: 6086.0000 - fn: 1637.0000 - accuracy: 0.7870 - precision: 0.0909 - recall: 6.1050e-04 - auc: 0.5074 - val_loss: 0.5192 - val_tp: 0.0000e+00 - val_fp: 0.0000e+00 - val_tn: 610.0000 - val_fn: 164.0000 - val_accuracy: 0.7881 - val_precision: 0.0000e+00 - val_recall: 0.0000e+00 - val_auc: 0.5431\n",
      "Epoch 2/5\n",
      "218/218 - 31s - loss: 0.5168 - tp: 0.0000e+00 - fp: 0.0000e+00 - tn: 5486.0000 - fn: 1474.0000 - accuracy: 0.7882 - precision: 0.0000e+00 - recall: 0.0000e+00 - auc: 0.5164 - val_loss: 0.5155 - val_tp: 0.0000e+00 - val_fp: 0.0000e+00 - val_tn: 610.0000 - val_fn: 164.0000 - val_accuracy: 0.7881 - val_precision: 0.0000e+00 - val_recall: 0.0000e+00 - val_auc: 0.6018\n",
      "Epoch 3/5\n",
      "218/218 - 28s - loss: 0.5155 - tp: 0.0000e+00 - fp: 0.0000e+00 - tn: 5486.0000 - fn: 1474.0000 - accuracy: 0.7882 - precision: 0.0000e+00 - recall: 0.0000e+00 - auc: 0.5347 - val_loss: 0.5149 - val_tp: 0.0000e+00 - val_fp: 0.0000e+00 - val_tn: 610.0000 - val_fn: 164.0000 - val_accuracy: 0.7881 - val_precision: 0.0000e+00 - val_recall: 0.0000e+00 - val_auc: 0.6246\n",
      "Epoch 4/5\n",
      "218/218 - 28s - loss: 0.5154 - tp: 0.0000e+00 - fp: 0.0000e+00 - tn: 5486.0000 - fn: 1474.0000 - accuracy: 0.7882 - precision: 0.0000e+00 - recall: 0.0000e+00 - auc: 0.5308 - val_loss: 0.5142 - val_tp: 0.0000e+00 - val_fp: 0.0000e+00 - val_tn: 610.0000 - val_fn: 164.0000 - val_accuracy: 0.7881 - val_precision: 0.0000e+00 - val_recall: 0.0000e+00 - val_auc: 0.6349\n",
      "Epoch 5/5\n",
      "218/218 - 31s - loss: 0.5141 - tp: 0.0000e+00 - fp: 0.0000e+00 - tn: 5486.0000 - fn: 1474.0000 - accuracy: 0.7882 - precision: 0.0000e+00 - recall: 0.0000e+00 - auc: 0.5567 - val_loss: 0.5133 - val_tp: 0.0000e+00 - val_fp: 0.0000e+00 - val_tn: 610.0000 - val_fn: 164.0000 - val_accuracy: 0.7881 - val_precision: 0.0000e+00 - val_recall: 0.0000e+00 - val_auc: 0.6493\n",
      "Epoch 1/5\n",
      "218/218 - 35s - loss: 0.5556 - tp: 3.0000 - fp: 24.0000 - tn: 6072.0000 - fn: 1635.0000 - accuracy: 0.7855 - precision: 0.1111 - recall: 0.0018 - auc: 0.4982 - val_loss: 0.5172 - val_tp: 0.0000e+00 - val_fp: 0.0000e+00 - val_tn: 610.0000 - val_fn: 164.0000 - val_accuracy: 0.7881 - val_precision: 0.0000e+00 - val_recall: 0.0000e+00 - val_auc: 0.5712\n",
      "Epoch 2/5\n",
      "218/218 - 31s - loss: 0.5163 - tp: 0.0000e+00 - fp: 0.0000e+00 - tn: 5486.0000 - fn: 1474.0000 - accuracy: 0.7882 - precision: 0.0000e+00 - recall: 0.0000e+00 - auc: 0.5203 - val_loss: 0.5152 - val_tp: 0.0000e+00 - val_fp: 0.0000e+00 - val_tn: 610.0000 - val_fn: 164.0000 - val_accuracy: 0.7881 - val_precision: 0.0000e+00 - val_recall: 0.0000e+00 - val_auc: 0.6099\n",
      "Epoch 3/5\n",
      "218/218 - 32s - loss: 0.5148 - tp: 0.0000e+00 - fp: 0.0000e+00 - tn: 5486.0000 - fn: 1474.0000 - accuracy: 0.7882 - precision: 0.0000e+00 - recall: 0.0000e+00 - auc: 0.5456 - val_loss: 0.5142 - val_tp: 0.0000e+00 - val_fp: 0.0000e+00 - val_tn: 610.0000 - val_fn: 164.0000 - val_accuracy: 0.7881 - val_precision: 0.0000e+00 - val_recall: 0.0000e+00 - val_auc: 0.6464\n",
      "Epoch 4/5\n",
      "218/218 - 32s - loss: 0.5140 - tp: 0.0000e+00 - fp: 0.0000e+00 - tn: 5486.0000 - fn: 1474.0000 - accuracy: 0.7882 - precision: 0.0000e+00 - recall: 0.0000e+00 - auc: 0.5632 - val_loss: 0.5129 - val_tp: 0.0000e+00 - val_fp: 0.0000e+00 - val_tn: 610.0000 - val_fn: 164.0000 - val_accuracy: 0.7881 - val_precision: 0.0000e+00 - val_recall: 0.0000e+00 - val_auc: 0.6524\n",
      "Epoch 5/5\n",
      "218/218 - 29s - loss: 0.5135 - tp: 0.0000e+00 - fp: 0.0000e+00 - tn: 5486.0000 - fn: 1474.0000 - accuracy: 0.7882 - precision: 0.0000e+00 - recall: 0.0000e+00 - auc: 0.5684 - val_loss: 0.5110 - val_tp: 0.0000e+00 - val_fp: 0.0000e+00 - val_tn: 610.0000 - val_fn: 164.0000 - val_accuracy: 0.7881 - val_precision: 0.0000e+00 - val_recall: 0.0000e+00 - val_auc: 0.6826\n",
      "\n",
      "Trial 2 Complete [00h 13m 04s]\n",
      "val_accuracy: 0.7881137132644653\n",
      "\n",
      "Best val_accuracy So Far: 0.8710594296455383\n",
      "Total elapsed time: 00h 19m 37s\n",
      "\n",
      "Search: Running Trial #3\n",
      "\n",
      "Hyperparameter    |Value             |Best Value So Far \n",
      "units             |32                |16                \n",
      "activation        |tanh              |relu              \n",
      "dropout_1         |0.15              |0.1               \n",
      "optimizer         |adam              |adam              \n",
      "learning_rate     |0.01              |0.0001            \n",
      "\n",
      "Epoch 1/5\n",
      "218/218 - 26s - loss: 0.4119 - tp: 366.0000 - fp: 185.0000 - tn: 5911.0000 - fn: 1272.0000 - accuracy: 0.8116 - precision: 0.6642 - recall: 0.2234 - auc: 0.7848 - val_loss: 0.3283 - val_tp: 77.0000 - val_fp: 26.0000 - val_tn: 584.0000 - val_fn: 87.0000 - val_accuracy: 0.8540 - val_precision: 0.7476 - val_recall: 0.4695 - val_auc: 0.8940\n",
      "Epoch 2/5\n",
      "218/218 - 22s - loss: 0.2540 - tp: 1028.0000 - fp: 302.0000 - tn: 5184.0000 - fn: 446.0000 - accuracy: 0.8925 - precision: 0.7729 - recall: 0.6974 - auc: 0.9358 - val_loss: 0.3340 - val_tp: 108.0000 - val_fp: 36.0000 - val_tn: 574.0000 - val_fn: 56.0000 - val_accuracy: 0.8811 - val_precision: 0.7500 - val_recall: 0.6585 - val_auc: 0.8992\n",
      "Epoch 3/5\n",
      "218/218 - 22s - loss: 0.1793 - tp: 1201.0000 - fp: 234.0000 - tn: 5252.0000 - fn: 273.0000 - accuracy: 0.9272 - precision: 0.8369 - recall: 0.8148 - auc: 0.9698 - val_loss: 0.3479 - val_tp: 114.0000 - val_fp: 55.0000 - val_tn: 555.0000 - val_fn: 50.0000 - val_accuracy: 0.8643 - val_precision: 0.6746 - val_recall: 0.6951 - val_auc: 0.8924\n",
      "Epoch 4/5\n",
      "218/218 - 21s - loss: 0.1418 - tp: 1251.0000 - fp: 182.0000 - tn: 5304.0000 - fn: 223.0000 - accuracy: 0.9418 - precision: 0.8730 - recall: 0.8487 - auc: 0.9816 - val_loss: 0.4447 - val_tp: 104.0000 - val_fp: 49.0000 - val_tn: 561.0000 - val_fn: 60.0000 - val_accuracy: 0.8592 - val_precision: 0.6797 - val_recall: 0.6341 - val_auc: 0.8725\n",
      "Epoch 5/5\n",
      "218/218 - 21s - loss: 0.1188 - tp: 1297.0000 - fp: 181.0000 - tn: 5305.0000 - fn: 177.0000 - accuracy: 0.9486 - precision: 0.8775 - recall: 0.8799 - auc: 0.9875 - val_loss: 0.4315 - val_tp: 114.0000 - val_fp: 61.0000 - val_tn: 549.0000 - val_fn: 50.0000 - val_accuracy: 0.8566 - val_precision: 0.6514 - val_recall: 0.6951 - val_auc: 0.8790\n",
      "Epoch 1/5\n",
      "218/218 - 25s - loss: 0.4160 - tp: 501.0000 - fp: 303.0000 - tn: 5793.0000 - fn: 1137.0000 - accuracy: 0.8138 - precision: 0.6231 - recall: 0.3059 - auc: 0.8013 - val_loss: 0.3221 - val_tp: 105.0000 - val_fp: 42.0000 - val_tn: 568.0000 - val_fn: 59.0000 - val_accuracy: 0.8695 - val_precision: 0.7143 - val_recall: 0.6402 - val_auc: 0.8935\n",
      "Epoch 2/5\n",
      "218/218 - 20s - loss: 0.2451 - tp: 1077.0000 - fp: 316.0000 - tn: 5170.0000 - fn: 397.0000 - accuracy: 0.8976 - precision: 0.7732 - recall: 0.7307 - auc: 0.9407 - val_loss: 0.3475 - val_tp: 94.0000 - val_fp: 38.0000 - val_tn: 572.0000 - val_fn: 70.0000 - val_accuracy: 0.8605 - val_precision: 0.7121 - val_recall: 0.5732 - val_auc: 0.8780\n",
      "Epoch 3/5\n",
      "218/218 - 20s - loss: 0.1838 - tp: 1195.0000 - fp: 234.0000 - tn: 5252.0000 - fn: 279.0000 - accuracy: 0.9263 - precision: 0.8362 - recall: 0.8107 - auc: 0.9671 - val_loss: 0.3606 - val_tp: 114.0000 - val_fp: 60.0000 - val_tn: 550.0000 - val_fn: 50.0000 - val_accuracy: 0.8579 - val_precision: 0.6552 - val_recall: 0.6951 - val_auc: 0.8850\n",
      "Epoch 4/5\n",
      "218/218 - 20s - loss: 0.1446 - tp: 1263.0000 - fp: 210.0000 - tn: 5276.0000 - fn: 211.0000 - accuracy: 0.9395 - precision: 0.8574 - recall: 0.8569 - auc: 0.9813 - val_loss: 0.3952 - val_tp: 103.0000 - val_fp: 41.0000 - val_tn: 569.0000 - val_fn: 61.0000 - val_accuracy: 0.8682 - val_precision: 0.7153 - val_recall: 0.6280 - val_auc: 0.8779\n",
      "Epoch 5/5\n",
      "218/218 - 20s - loss: 0.1254 - tp: 1301.0000 - fp: 201.0000 - tn: 5285.0000 - fn: 173.0000 - accuracy: 0.9463 - precision: 0.8662 - recall: 0.8826 - auc: 0.9862 - val_loss: 0.4295 - val_tp: 113.0000 - val_fp: 57.0000 - val_tn: 553.0000 - val_fn: 51.0000 - val_accuracy: 0.8605 - val_precision: 0.6647 - val_recall: 0.6890 - val_auc: 0.8701\n",
      "Epoch 1/5\n",
      "218/218 - 23s - loss: 0.4236 - tp: 411.0000 - fp: 201.0000 - tn: 5895.0000 - fn: 1227.0000 - accuracy: 0.8154 - precision: 0.6716 - recall: 0.2509 - auc: 0.7878 - val_loss: 0.3254 - val_tp: 104.0000 - val_fp: 55.0000 - val_tn: 555.0000 - val_fn: 60.0000 - val_accuracy: 0.8514 - val_precision: 0.6541 - val_recall: 0.6341 - val_auc: 0.8962\n",
      "Epoch 2/5\n",
      "218/218 - 19s - loss: 0.2527 - tp: 1029.0000 - fp: 270.0000 - tn: 5216.0000 - fn: 445.0000 - accuracy: 0.8973 - precision: 0.7921 - recall: 0.6981 - auc: 0.9366 - val_loss: 0.3207 - val_tp: 109.0000 - val_fp: 33.0000 - val_tn: 577.0000 - val_fn: 55.0000 - val_accuracy: 0.8863 - val_precision: 0.7676 - val_recall: 0.6646 - val_auc: 0.9051\n",
      "Epoch 3/5\n",
      "218/218 - 21s - loss: 0.1862 - tp: 1196.0000 - fp: 230.0000 - tn: 5256.0000 - fn: 278.0000 - accuracy: 0.9270 - precision: 0.8387 - recall: 0.8114 - auc: 0.9667 - val_loss: 0.3571 - val_tp: 109.0000 - val_fp: 48.0000 - val_tn: 562.0000 - val_fn: 55.0000 - val_accuracy: 0.8669 - val_precision: 0.6943 - val_recall: 0.6646 - val_auc: 0.8854\n",
      "Epoch 4/5\n",
      "218/218 - 20s - loss: 0.1528 - tp: 1260.0000 - fp: 225.0000 - tn: 5261.0000 - fn: 214.0000 - accuracy: 0.9369 - precision: 0.8485 - recall: 0.8548 - auc: 0.9778 - val_loss: 0.3830 - val_tp: 95.0000 - val_fp: 43.0000 - val_tn: 567.0000 - val_fn: 69.0000 - val_accuracy: 0.8553 - val_precision: 0.6884 - val_recall: 0.5793 - val_auc: 0.8350\n",
      "Epoch 5/5\n",
      "218/218 - 20s - loss: 0.1402 - tp: 1280.0000 - fp: 208.0000 - tn: 5278.0000 - fn: 194.0000 - accuracy: 0.9422 - precision: 0.8602 - recall: 0.8684 - auc: 0.9820 - val_loss: 0.4003 - val_tp: 116.0000 - val_fp: 58.0000 - val_tn: 552.0000 - val_fn: 48.0000 - val_accuracy: 0.8630 - val_precision: 0.6667 - val_recall: 0.7073 - val_auc: 0.8828\n",
      "Epoch 1/5\n",
      "218/218 - 25s - loss: 0.4151 - tp: 460.0000 - fp: 252.0000 - tn: 5844.0000 - fn: 1178.0000 - accuracy: 0.8151 - precision: 0.6461 - recall: 0.2808 - auc: 0.8039 - val_loss: 0.3245 - val_tp: 87.0000 - val_fp: 28.0000 - val_tn: 582.0000 - val_fn: 77.0000 - val_accuracy: 0.8643 - val_precision: 0.7565 - val_recall: 0.5305 - val_auc: 0.8977\n",
      "Epoch 2/5\n",
      "218/218 - 20s - loss: 0.2506 - tp: 1051.0000 - fp: 305.0000 - tn: 5181.0000 - fn: 423.0000 - accuracy: 0.8954 - precision: 0.7751 - recall: 0.7130 - auc: 0.9377 - val_loss: 0.3504 - val_tp: 120.0000 - val_fp: 80.0000 - val_tn: 530.0000 - val_fn: 44.0000 - val_accuracy: 0.8398 - val_precision: 0.6000 - val_recall: 0.7317 - val_auc: 0.8909\n",
      "Epoch 3/5\n",
      "218/218 - 19s - loss: 0.1836 - tp: 1197.0000 - fp: 241.0000 - tn: 5245.0000 - fn: 277.0000 - accuracy: 0.9256 - precision: 0.8324 - recall: 0.8121 - auc: 0.9674 - val_loss: 0.3547 - val_tp: 108.0000 - val_fp: 39.0000 - val_tn: 571.0000 - val_fn: 56.0000 - val_accuracy: 0.8773 - val_precision: 0.7347 - val_recall: 0.6585 - val_auc: 0.8870\n",
      "Epoch 4/5\n",
      "218/218 - 20s - loss: 0.1493 - tp: 1261.0000 - fp: 213.0000 - tn: 5273.0000 - fn: 213.0000 - accuracy: 0.9388 - precision: 0.8555 - recall: 0.8555 - auc: 0.9791 - val_loss: 0.4226 - val_tp: 121.0000 - val_fp: 50.0000 - val_tn: 560.0000 - val_fn: 43.0000 - val_accuracy: 0.8798 - val_precision: 0.7076 - val_recall: 0.7378 - val_auc: 0.8881\n",
      "Epoch 5/5\n",
      "218/218 - 20s - loss: 0.1205 - tp: 1295.0000 - fp: 169.0000 - tn: 5317.0000 - fn: 179.0000 - accuracy: 0.9500 - precision: 0.8846 - recall: 0.8786 - auc: 0.9870 - val_loss: 0.4400 - val_tp: 105.0000 - val_fp: 40.0000 - val_tn: 570.0000 - val_fn: 59.0000 - val_accuracy: 0.8721 - val_precision: 0.7241 - val_recall: 0.6402 - val_auc: 0.8739\n",
      "Epoch 1/5\n",
      "218/218 - 24s - loss: 0.4123 - tp: 520.0000 - fp: 238.0000 - tn: 5858.0000 - fn: 1118.0000 - accuracy: 0.8247 - precision: 0.6860 - recall: 0.3175 - auc: 0.8030 - val_loss: 0.3159 - val_tp: 122.0000 - val_fp: 67.0000 - val_tn: 543.0000 - val_fn: 42.0000 - val_accuracy: 0.8592 - val_precision: 0.6455 - val_recall: 0.7439 - val_auc: 0.9097\n",
      "Epoch 2/5\n",
      "218/218 - 20s - loss: 0.2455 - tp: 1064.0000 - fp: 300.0000 - tn: 5186.0000 - fn: 410.0000 - accuracy: 0.8980 - precision: 0.7801 - recall: 0.7218 - auc: 0.9407 - val_loss: 0.3254 - val_tp: 104.0000 - val_fp: 46.0000 - val_tn: 564.0000 - val_fn: 60.0000 - val_accuracy: 0.8630 - val_precision: 0.6933 - val_recall: 0.6341 - val_auc: 0.8926\n",
      "Epoch 3/5\n",
      "218/218 - 20s - loss: 0.1861 - tp: 1206.0000 - fp: 233.0000 - tn: 5253.0000 - fn: 268.0000 - accuracy: 0.9280 - precision: 0.8381 - recall: 0.8182 - auc: 0.9654 - val_loss: 0.3423 - val_tp: 98.0000 - val_fp: 38.0000 - val_tn: 572.0000 - val_fn: 66.0000 - val_accuracy: 0.8656 - val_precision: 0.7206 - val_recall: 0.5976 - val_auc: 0.8866\n",
      "Epoch 4/5\n",
      "218/218 - 20s - loss: 0.1494 - tp: 1256.0000 - fp: 193.0000 - tn: 5293.0000 - fn: 218.0000 - accuracy: 0.9409 - precision: 0.8668 - recall: 0.8521 - auc: 0.9789 - val_loss: 0.3726 - val_tp: 115.0000 - val_fp: 48.0000 - val_tn: 562.0000 - val_fn: 49.0000 - val_accuracy: 0.8747 - val_precision: 0.7055 - val_recall: 0.7012 - val_auc: 0.8879\n",
      "Epoch 5/5\n",
      "218/218 - 20s - loss: 0.1289 - tp: 1283.0000 - fp: 185.0000 - tn: 5301.0000 - fn: 191.0000 - accuracy: 0.9460 - precision: 0.8740 - recall: 0.8704 - auc: 0.9850 - val_loss: 0.3941 - val_tp: 107.0000 - val_fp: 50.0000 - val_tn: 560.0000 - val_fn: 57.0000 - val_accuracy: 0.8618 - val_precision: 0.6815 - val_recall: 0.6524 - val_auc: 0.8825\n",
      "\n",
      "Trial 3 Complete [00h 08m 53s]\n",
      "val_accuracy: 0.878294575214386\n",
      "\n",
      "Best val_accuracy So Far: 0.878294575214386\n",
      "Total elapsed time: 00h 28m 30s\n",
      "\n",
      "Search: Running Trial #4\n",
      "\n",
      "Hyperparameter    |Value             |Best Value So Far \n",
      "units             |32                |32                \n",
      "activation        |sigmoid           |tanh              \n",
      "dropout_1         |0.1               |0.15              \n",
      "optimizer         |rmsprop           |adam              \n",
      "learning_rate     |0.0001            |0.01              \n",
      "\n",
      "Epoch 1/5\n",
      "218/218 - 25s - loss: 0.4410 - tp: 244.0000 - fp: 115.0000 - tn: 5981.0000 - fn: 1394.0000 - accuracy: 0.8049 - precision: 0.6797 - recall: 0.1490 - auc: 0.7768 - val_loss: 0.3507 - val_tp: 65.0000 - val_fp: 26.0000 - val_tn: 584.0000 - val_fn: 99.0000 - val_accuracy: 0.8385 - val_precision: 0.7143 - val_recall: 0.3963 - val_auc: 0.8911\n",
      "Epoch 2/5\n",
      "218/218 - 20s - loss: 0.3136 - tp: 936.0000 - fp: 353.0000 - tn: 5133.0000 - fn: 538.0000 - accuracy: 0.8720 - precision: 0.7261 - recall: 0.6350 - auc: 0.8979 - val_loss: 0.3144 - val_tp: 94.0000 - val_fp: 25.0000 - val_tn: 585.0000 - val_fn: 70.0000 - val_accuracy: 0.8773 - val_precision: 0.7899 - val_recall: 0.5732 - val_auc: 0.9022\n",
      "Epoch 3/5\n",
      "218/218 - 21s - loss: 0.2518 - tp: 1062.0000 - fp: 288.0000 - tn: 5198.0000 - fn: 412.0000 - accuracy: 0.8994 - precision: 0.7867 - recall: 0.7205 - auc: 0.9357 - val_loss: 0.3345 - val_tp: 91.0000 - val_fp: 22.0000 - val_tn: 588.0000 - val_fn: 73.0000 - val_accuracy: 0.8773 - val_precision: 0.8053 - val_recall: 0.5549 - val_auc: 0.9014\n",
      "Epoch 4/5\n",
      "218/218 - 19s - loss: 0.2229 - tp: 1118.0000 - fp: 248.0000 - tn: 5238.0000 - fn: 356.0000 - accuracy: 0.9132 - precision: 0.8184 - recall: 0.7585 - auc: 0.9513 - val_loss: 0.3179 - val_tp: 108.0000 - val_fp: 34.0000 - val_tn: 576.0000 - val_fn: 56.0000 - val_accuracy: 0.8837 - val_precision: 0.7606 - val_recall: 0.6585 - val_auc: 0.9076\n",
      "Epoch 5/5\n",
      "218/218 - 21s - loss: 0.2141 - tp: 1167.0000 - fp: 246.0000 - tn: 5240.0000 - fn: 307.0000 - accuracy: 0.9205 - precision: 0.8259 - recall: 0.7917 - auc: 0.9536 - val_loss: 0.3452 - val_tp: 96.0000 - val_fp: 23.0000 - val_tn: 587.0000 - val_fn: 68.0000 - val_accuracy: 0.8824 - val_precision: 0.8067 - val_recall: 0.5854 - val_auc: 0.8976\n",
      "Epoch 1/5\n",
      "218/218 - 25s - loss: 0.4185 - tp: 383.0000 - fp: 150.0000 - tn: 5946.0000 - fn: 1255.0000 - accuracy: 0.8183 - precision: 0.7186 - recall: 0.2338 - auc: 0.8043 - val_loss: 0.3511 - val_tp: 117.0000 - val_fp: 72.0000 - val_tn: 538.0000 - val_fn: 47.0000 - val_accuracy: 0.8463 - val_precision: 0.6190 - val_recall: 0.7134 - val_auc: 0.8903\n",
      "Epoch 2/5\n",
      "218/218 - 20s - loss: 0.3080 - tp: 1016.0000 - fp: 436.0000 - tn: 5050.0000 - fn: 458.0000 - accuracy: 0.8716 - precision: 0.6997 - recall: 0.6893 - auc: 0.9015 - val_loss: 0.3147 - val_tp: 107.0000 - val_fp: 35.0000 - val_tn: 575.0000 - val_fn: 57.0000 - val_accuracy: 0.8811 - val_precision: 0.7535 - val_recall: 0.6524 - val_auc: 0.8964\n",
      "Epoch 3/5\n",
      "218/218 - 19s - loss: 0.2658 - tp: 1020.0000 - fp: 264.0000 - tn: 5222.0000 - fn: 454.0000 - accuracy: 0.8968 - precision: 0.7944 - recall: 0.6920 - auc: 0.9272 - val_loss: 0.3155 - val_tp: 116.0000 - val_fp: 56.0000 - val_tn: 554.0000 - val_fn: 48.0000 - val_accuracy: 0.8656 - val_precision: 0.6744 - val_recall: 0.7073 - val_auc: 0.9056\n",
      "Epoch 4/5\n",
      "218/218 - 18s - loss: 0.2315 - tp: 1092.0000 - fp: 221.0000 - tn: 5265.0000 - fn: 382.0000 - accuracy: 0.9134 - precision: 0.8317 - recall: 0.7408 - auc: 0.9458 - val_loss: 0.3243 - val_tp: 102.0000 - val_fp: 36.0000 - val_tn: 574.0000 - val_fn: 62.0000 - val_accuracy: 0.8734 - val_precision: 0.7391 - val_recall: 0.6220 - val_auc: 0.9015\n",
      "Epoch 5/5\n",
      "218/218 - 18s - loss: 0.2088 - tp: 1121.0000 - fp: 227.0000 - tn: 5259.0000 - fn: 353.0000 - accuracy: 0.9167 - precision: 0.8316 - recall: 0.7605 - auc: 0.9547 - val_loss: 0.3571 - val_tp: 98.0000 - val_fp: 31.0000 - val_tn: 579.0000 - val_fn: 66.0000 - val_accuracy: 0.8747 - val_precision: 0.7597 - val_recall: 0.5976 - val_auc: 0.8986\n",
      "Epoch 1/5\n",
      "218/218 - 23s - loss: 0.4385 - tp: 302.0000 - fp: 123.0000 - tn: 5973.0000 - fn: 1336.0000 - accuracy: 0.8114 - precision: 0.7106 - recall: 0.1844 - auc: 0.7780 - val_loss: 0.3432 - val_tp: 86.0000 - val_fp: 37.0000 - val_tn: 573.0000 - val_fn: 78.0000 - val_accuracy: 0.8514 - val_precision: 0.6992 - val_recall: 0.5244 - val_auc: 0.8933\n",
      "Epoch 2/5\n",
      "218/218 - 18s - loss: 0.3128 - tp: 920.0000 - fp: 288.0000 - tn: 5198.0000 - fn: 554.0000 - accuracy: 0.8790 - precision: 0.7616 - recall: 0.6242 - auc: 0.8940 - val_loss: 0.3215 - val_tp: 90.0000 - val_fp: 24.0000 - val_tn: 586.0000 - val_fn: 74.0000 - val_accuracy: 0.8734 - val_precision: 0.7895 - val_recall: 0.5488 - val_auc: 0.9059\n",
      "Epoch 3/5\n",
      "218/218 - 19s - loss: 0.2700 - tp: 1030.0000 - fp: 284.0000 - tn: 5202.0000 - fn: 444.0000 - accuracy: 0.8954 - precision: 0.7839 - recall: 0.6988 - auc: 0.9255 - val_loss: 0.3017 - val_tp: 112.0000 - val_fp: 42.0000 - val_tn: 568.0000 - val_fn: 52.0000 - val_accuracy: 0.8786 - val_precision: 0.7273 - val_recall: 0.6829 - val_auc: 0.9121\n",
      "Epoch 4/5\n",
      "218/218 - 19s - loss: 0.2279 - tp: 1075.0000 - fp: 198.0000 - tn: 5288.0000 - fn: 399.0000 - accuracy: 0.9142 - precision: 0.8445 - recall: 0.7293 - auc: 0.9478 - val_loss: 0.3068 - val_tp: 103.0000 - val_fp: 30.0000 - val_tn: 580.0000 - val_fn: 61.0000 - val_accuracy: 0.8824 - val_precision: 0.7744 - val_recall: 0.6280 - val_auc: 0.9113\n",
      "Epoch 5/5\n",
      "218/218 - 18s - loss: 0.2140 - tp: 1084.0000 - fp: 208.0000 - tn: 5278.0000 - fn: 390.0000 - accuracy: 0.9141 - precision: 0.8390 - recall: 0.7354 - auc: 0.9515 - val_loss: 0.3323 - val_tp: 92.0000 - val_fp: 26.0000 - val_tn: 584.0000 - val_fn: 72.0000 - val_accuracy: 0.8734 - val_precision: 0.7797 - val_recall: 0.5610 - val_auc: 0.9021\n",
      "Epoch 1/5\n",
      "218/218 - 22s - loss: 0.4350 - tp: 399.0000 - fp: 215.0000 - tn: 5881.0000 - fn: 1239.0000 - accuracy: 0.8120 - precision: 0.6498 - recall: 0.2436 - auc: 0.7824 - val_loss: 0.3309 - val_tp: 104.0000 - val_fp: 43.0000 - val_tn: 567.0000 - val_fn: 60.0000 - val_accuracy: 0.8669 - val_precision: 0.7075 - val_recall: 0.6341 - val_auc: 0.8981\n",
      "Epoch 2/5\n",
      "218/218 - 17s - loss: 0.3020 - tp: 955.0000 - fp: 300.0000 - tn: 5186.0000 - fn: 519.0000 - accuracy: 0.8823 - precision: 0.7610 - recall: 0.6479 - auc: 0.9042 - val_loss: 0.3174 - val_tp: 96.0000 - val_fp: 32.0000 - val_tn: 578.0000 - val_fn: 68.0000 - val_accuracy: 0.8708 - val_precision: 0.7500 - val_recall: 0.5854 - val_auc: 0.8977\n",
      "Epoch 3/5\n",
      "218/218 - 18s - loss: 0.2510 - tp: 1039.0000 - fp: 249.0000 - tn: 5237.0000 - fn: 435.0000 - accuracy: 0.9017 - precision: 0.8067 - recall: 0.7049 - auc: 0.9363 - val_loss: 0.3306 - val_tp: 90.0000 - val_fp: 21.0000 - val_tn: 589.0000 - val_fn: 74.0000 - val_accuracy: 0.8773 - val_precision: 0.8108 - val_recall: 0.5488 - val_auc: 0.9108\n",
      "Epoch 4/5\n",
      "218/218 - 18s - loss: 0.2221 - tp: 1083.0000 - fp: 220.0000 - tn: 5266.0000 - fn: 391.0000 - accuracy: 0.9122 - precision: 0.8312 - recall: 0.7347 - auc: 0.9504 - val_loss: 0.3128 - val_tp: 96.0000 - val_fp: 24.0000 - val_tn: 586.0000 - val_fn: 68.0000 - val_accuracy: 0.8811 - val_precision: 0.8000 - val_recall: 0.5854 - val_auc: 0.9060\n",
      "Epoch 5/5\n",
      "218/218 - 18s - loss: 0.2029 - tp: 1137.0000 - fp: 209.0000 - tn: 5277.0000 - fn: 337.0000 - accuracy: 0.9216 - precision: 0.8447 - recall: 0.7714 - auc: 0.9588 - val_loss: 0.3359 - val_tp: 107.0000 - val_fp: 33.0000 - val_tn: 577.0000 - val_fn: 57.0000 - val_accuracy: 0.8837 - val_precision: 0.7643 - val_recall: 0.6524 - val_auc: 0.8999\n",
      "Epoch 1/5\n",
      "218/218 - 23s - loss: 0.4578 - tp: 375.0000 - fp: 311.0000 - tn: 5785.0000 - fn: 1263.0000 - accuracy: 0.7965 - precision: 0.5466 - recall: 0.2289 - auc: 0.7576 - val_loss: 0.3737 - val_tp: 50.0000 - val_fp: 13.0000 - val_tn: 597.0000 - val_fn: 114.0000 - val_accuracy: 0.8359 - val_precision: 0.7937 - val_recall: 0.3049 - val_auc: 0.8844\n",
      "Epoch 2/5\n",
      "218/218 - 18s - loss: 0.3131 - tp: 900.0000 - fp: 281.0000 - tn: 5205.0000 - fn: 574.0000 - accuracy: 0.8772 - precision: 0.7621 - recall: 0.6106 - auc: 0.8959 - val_loss: 0.3286 - val_tp: 94.0000 - val_fp: 31.0000 - val_tn: 579.0000 - val_fn: 70.0000 - val_accuracy: 0.8695 - val_precision: 0.7520 - val_recall: 0.5732 - val_auc: 0.8881\n",
      "Epoch 3/5\n",
      "218/218 - 18s - loss: 0.2594 - tp: 1044.0000 - fp: 278.0000 - tn: 5208.0000 - fn: 430.0000 - accuracy: 0.8983 - precision: 0.7897 - recall: 0.7083 - auc: 0.9281 - val_loss: 0.3150 - val_tp: 114.0000 - val_fp: 51.0000 - val_tn: 559.0000 - val_fn: 50.0000 - val_accuracy: 0.8695 - val_precision: 0.6909 - val_recall: 0.6951 - val_auc: 0.9055\n",
      "Epoch 4/5\n",
      "218/218 - 18s - loss: 0.2274 - tp: 1124.0000 - fp: 249.0000 - tn: 5237.0000 - fn: 350.0000 - accuracy: 0.9139 - precision: 0.8186 - recall: 0.7626 - auc: 0.9461 - val_loss: 0.4140 - val_tp: 84.0000 - val_fp: 16.0000 - val_tn: 594.0000 - val_fn: 80.0000 - val_accuracy: 0.8760 - val_precision: 0.8400 - val_recall: 0.5122 - val_auc: 0.8720\n",
      "Epoch 5/5\n",
      "218/218 - 18s - loss: 0.2067 - tp: 1161.0000 - fp: 234.0000 - tn: 5252.0000 - fn: 313.0000 - accuracy: 0.9214 - precision: 0.8323 - recall: 0.7877 - auc: 0.9556 - val_loss: 0.3317 - val_tp: 115.0000 - val_fp: 53.0000 - val_tn: 557.0000 - val_fn: 49.0000 - val_accuracy: 0.8682 - val_precision: 0.6845 - val_recall: 0.7012 - val_auc: 0.8983\n",
      "\n",
      "Trial 4 Complete [00h 08m 19s]\n",
      "val_accuracy: 0.8813953518867492\n",
      "\n",
      "Best val_accuracy So Far: 0.8813953518867492\n",
      "Total elapsed time: 00h 36m 50s\n",
      "\n",
      "Search: Running Trial #5\n",
      "\n",
      "Hyperparameter    |Value             |Best Value So Far \n",
      "units             |16                |32                \n",
      "activation        |relu              |sigmoid           \n",
      "dropout_1         |0.45              |0.1               \n",
      "optimizer         |rmsprop           |rmsprop           \n",
      "learning_rate     |0.001             |0.0001            \n",
      "\n",
      "Epoch 1/5\n",
      "218/218 - 19s - loss: 0.4449 - tp: 158.0000 - fp: 66.0000 - tn: 6030.0000 - fn: 1480.0000 - accuracy: 0.8001 - precision: 0.7054 - recall: 0.0965 - auc: 0.7727 - val_loss: 0.3470 - val_tp: 35.0000 - val_fp: 7.0000 - val_tn: 603.0000 - val_fn: 129.0000 - val_accuracy: 0.8243 - val_precision: 0.8333 - val_recall: 0.2134 - val_auc: 0.8934\n",
      "Epoch 2/5\n",
      "218/218 - 15s - loss: 0.3262 - tp: 813.0000 - fp: 299.0000 - tn: 5187.0000 - fn: 661.0000 - accuracy: 0.8621 - precision: 0.7311 - recall: 0.5516 - auc: 0.8972 - val_loss: 0.3090 - val_tp: 110.0000 - val_fp: 38.0000 - val_tn: 572.0000 - val_fn: 54.0000 - val_accuracy: 0.8811 - val_precision: 0.7432 - val_recall: 0.6707 - val_auc: 0.9142\n",
      "Epoch 3/5\n",
      "218/218 - 16s - loss: 0.2832 - tp: 1071.0000 - fp: 340.0000 - tn: 5146.0000 - fn: 403.0000 - accuracy: 0.8932 - precision: 0.7590 - recall: 0.7266 - auc: 0.9220 - val_loss: 0.2972 - val_tp: 113.0000 - val_fp: 35.0000 - val_tn: 575.0000 - val_fn: 51.0000 - val_accuracy: 0.8889 - val_precision: 0.7635 - val_recall: 0.6890 - val_auc: 0.9160\n",
      "Epoch 4/5\n",
      "218/218 - 15s - loss: 0.2519 - tp: 1141.0000 - fp: 331.0000 - tn: 5155.0000 - fn: 333.0000 - accuracy: 0.9046 - precision: 0.7751 - recall: 0.7741 - auc: 0.9372 - val_loss: 0.4097 - val_tp: 86.0000 - val_fp: 14.0000 - val_tn: 596.0000 - val_fn: 78.0000 - val_accuracy: 0.8811 - val_precision: 0.8600 - val_recall: 0.5244 - val_auc: 0.8858\n",
      "Epoch 5/5\n",
      "218/218 - 15s - loss: 0.2261 - tp: 1177.0000 - fp: 300.0000 - tn: 5186.0000 - fn: 297.0000 - accuracy: 0.9142 - precision: 0.7969 - recall: 0.7985 - auc: 0.9493 - val_loss: 0.3330 - val_tp: 103.0000 - val_fp: 42.0000 - val_tn: 568.0000 - val_fn: 61.0000 - val_accuracy: 0.8669 - val_precision: 0.7103 - val_recall: 0.6280 - val_auc: 0.9031\n",
      "Epoch 1/5\n",
      "218/218 - 19s - loss: 0.4655 - tp: 181.0000 - fp: 84.0000 - tn: 6012.0000 - fn: 1457.0000 - accuracy: 0.8007 - precision: 0.6830 - recall: 0.1105 - auc: 0.7432 - val_loss: 0.3543 - val_tp: 57.0000 - val_fp: 22.0000 - val_tn: 588.0000 - val_fn: 107.0000 - val_accuracy: 0.8333 - val_precision: 0.7215 - val_recall: 0.3476 - val_auc: 0.8814\n",
      "Epoch 2/5\n",
      "218/218 - 15s - loss: 0.3380 - tp: 849.0000 - fp: 352.0000 - tn: 5134.0000 - fn: 625.0000 - accuracy: 0.8596 - precision: 0.7069 - recall: 0.5760 - auc: 0.8854 - val_loss: 0.3058 - val_tp: 109.0000 - val_fp: 44.0000 - val_tn: 566.0000 - val_fn: 55.0000 - val_accuracy: 0.8721 - val_precision: 0.7124 - val_recall: 0.6646 - val_auc: 0.9106\n",
      "Epoch 3/5\n",
      "218/218 - 16s - loss: 0.2861 - tp: 1048.0000 - fp: 355.0000 - tn: 5131.0000 - fn: 426.0000 - accuracy: 0.8878 - precision: 0.7470 - recall: 0.7110 - auc: 0.9182 - val_loss: 0.3043 - val_tp: 105.0000 - val_fp: 35.0000 - val_tn: 575.0000 - val_fn: 59.0000 - val_accuracy: 0.8786 - val_precision: 0.7500 - val_recall: 0.6402 - val_auc: 0.9127\n",
      "Epoch 4/5\n",
      "218/218 - 15s - loss: 0.2561 - tp: 1133.0000 - fp: 318.0000 - tn: 5168.0000 - fn: 341.0000 - accuracy: 0.9053 - precision: 0.7808 - recall: 0.7687 - auc: 0.9343 - val_loss: 0.3042 - val_tp: 111.0000 - val_fp: 50.0000 - val_tn: 560.0000 - val_fn: 53.0000 - val_accuracy: 0.8669 - val_precision: 0.6894 - val_recall: 0.6768 - val_auc: 0.9117\n",
      "Epoch 5/5\n",
      "218/218 - 14s - loss: 0.2303 - tp: 1184.0000 - fp: 275.0000 - tn: 5211.0000 - fn: 290.0000 - accuracy: 0.9188 - precision: 0.8115 - recall: 0.8033 - auc: 0.9462 - val_loss: 0.3208 - val_tp: 117.0000 - val_fp: 65.0000 - val_tn: 545.0000 - val_fn: 47.0000 - val_accuracy: 0.8553 - val_precision: 0.6429 - val_recall: 0.7134 - val_auc: 0.9059\n",
      "Epoch 1/5\n",
      "218/218 - 18s - loss: 0.4488 - tp: 226.0000 - fp: 108.0000 - tn: 5988.0000 - fn: 1412.0000 - accuracy: 0.8035 - precision: 0.6766 - recall: 0.1380 - auc: 0.7699 - val_loss: 0.3475 - val_tp: 40.0000 - val_fp: 6.0000 - val_tn: 604.0000 - val_fn: 124.0000 - val_accuracy: 0.8320 - val_precision: 0.8696 - val_recall: 0.2439 - val_auc: 0.9013\n",
      "Epoch 2/5\n",
      "218/218 - 14s - loss: 0.3244 - tp: 872.0000 - fp: 282.0000 - tn: 5204.0000 - fn: 602.0000 - accuracy: 0.8730 - precision: 0.7556 - recall: 0.5916 - auc: 0.8971 - val_loss: 0.3014 - val_tp: 104.0000 - val_fp: 27.0000 - val_tn: 583.0000 - val_fn: 60.0000 - val_accuracy: 0.8876 - val_precision: 0.7939 - val_recall: 0.6341 - val_auc: 0.9198\n",
      "Epoch 3/5\n",
      "218/218 - 14s - loss: 0.2699 - tp: 1083.0000 - fp: 320.0000 - tn: 5166.0000 - fn: 391.0000 - accuracy: 0.8978 - precision: 0.7719 - recall: 0.7347 - auc: 0.9275 - val_loss: 0.2866 - val_tp: 109.0000 - val_fp: 36.0000 - val_tn: 574.0000 - val_fn: 55.0000 - val_accuracy: 0.8824 - val_precision: 0.7517 - val_recall: 0.6646 - val_auc: 0.9184\n",
      "Epoch 4/5\n",
      "218/218 - 14s - loss: 0.2368 - tp: 1127.0000 - fp: 288.0000 - tn: 5198.0000 - fn: 347.0000 - accuracy: 0.9088 - precision: 0.7965 - recall: 0.7646 - auc: 0.9446 - val_loss: 0.2878 - val_tp: 110.0000 - val_fp: 39.0000 - val_tn: 571.0000 - val_fn: 54.0000 - val_accuracy: 0.8798 - val_precision: 0.7383 - val_recall: 0.6707 - val_auc: 0.9184\n",
      "Epoch 5/5\n",
      "218/218 - 16s - loss: 0.2224 - tp: 1163.0000 - fp: 275.0000 - tn: 5211.0000 - fn: 311.0000 - accuracy: 0.9158 - precision: 0.8088 - recall: 0.7890 - auc: 0.9502 - val_loss: 0.2909 - val_tp: 111.0000 - val_fp: 37.0000 - val_tn: 573.0000 - val_fn: 53.0000 - val_accuracy: 0.8837 - val_precision: 0.7500 - val_recall: 0.6768 - val_auc: 0.9196\n",
      "Epoch 1/5\n",
      "218/218 - 21s - loss: 0.4563 - tp: 226.0000 - fp: 87.0000 - tn: 6009.0000 - fn: 1412.0000 - accuracy: 0.8062 - precision: 0.7220 - recall: 0.1380 - auc: 0.7628 - val_loss: 0.3416 - val_tp: 63.0000 - val_fp: 21.0000 - val_tn: 589.0000 - val_fn: 101.0000 - val_accuracy: 0.8424 - val_precision: 0.7500 - val_recall: 0.3841 - val_auc: 0.8957\n",
      "Epoch 2/5\n",
      "218/218 - 16s - loss: 0.3319 - tp: 895.0000 - fp: 336.0000 - tn: 5150.0000 - fn: 579.0000 - accuracy: 0.8685 - precision: 0.7271 - recall: 0.6072 - auc: 0.8882 - val_loss: 0.3173 - val_tp: 116.0000 - val_fp: 70.0000 - val_tn: 540.0000 - val_fn: 48.0000 - val_accuracy: 0.8475 - val_precision: 0.6237 - val_recall: 0.7073 - val_auc: 0.9062\n",
      "Epoch 3/5\n",
      "218/218 - 15s - loss: 0.2794 - tp: 1075.0000 - fp: 334.0000 - tn: 5152.0000 - fn: 399.0000 - accuracy: 0.8947 - precision: 0.7630 - recall: 0.7293 - auc: 0.9206 - val_loss: 0.3040 - val_tp: 106.0000 - val_fp: 42.0000 - val_tn: 568.0000 - val_fn: 58.0000 - val_accuracy: 0.8708 - val_precision: 0.7162 - val_recall: 0.6463 - val_auc: 0.9087\n",
      "Epoch 4/5\n",
      "218/218 - 15s - loss: 0.2515 - tp: 1131.0000 - fp: 287.0000 - tn: 5199.0000 - fn: 343.0000 - accuracy: 0.9095 - precision: 0.7976 - recall: 0.7673 - auc: 0.9341 - val_loss: 0.3305 - val_tp: 99.0000 - val_fp: 31.0000 - val_tn: 579.0000 - val_fn: 65.0000 - val_accuracy: 0.8760 - val_precision: 0.7615 - val_recall: 0.6037 - val_auc: 0.9034\n",
      "Epoch 5/5\n",
      "218/218 - 14s - loss: 0.2276 - tp: 1153.0000 - fp: 255.0000 - tn: 5231.0000 - fn: 321.0000 - accuracy: 0.9172 - precision: 0.8189 - recall: 0.7822 - auc: 0.9456 - val_loss: 0.3576 - val_tp: 100.0000 - val_fp: 32.0000 - val_tn: 578.0000 - val_fn: 64.0000 - val_accuracy: 0.8760 - val_precision: 0.7576 - val_recall: 0.6098 - val_auc: 0.8960\n",
      "Epoch 1/5\n",
      "218/218 - 18s - loss: 0.4617 - tp: 293.0000 - fp: 119.0000 - tn: 5977.0000 - fn: 1345.0000 - accuracy: 0.8107 - precision: 0.7112 - recall: 0.1789 - auc: 0.7528 - val_loss: 0.3427 - val_tp: 67.0000 - val_fp: 16.0000 - val_tn: 594.0000 - val_fn: 97.0000 - val_accuracy: 0.8540 - val_precision: 0.8072 - val_recall: 0.4085 - val_auc: 0.8969\n",
      "Epoch 2/5\n",
      "218/218 - 15s - loss: 0.3392 - tp: 921.0000 - fp: 386.0000 - tn: 5100.0000 - fn: 553.0000 - accuracy: 0.8651 - precision: 0.7047 - recall: 0.6248 - auc: 0.8816 - val_loss: 0.3416 - val_tp: 78.0000 - val_fp: 17.0000 - val_tn: 593.0000 - val_fn: 86.0000 - val_accuracy: 0.8669 - val_precision: 0.8211 - val_recall: 0.4756 - val_auc: 0.9040\n",
      "Epoch 3/5\n",
      "218/218 - 15s - loss: 0.2846 - tp: 1050.0000 - fp: 298.0000 - tn: 5188.0000 - fn: 424.0000 - accuracy: 0.8963 - precision: 0.7789 - recall: 0.7123 - auc: 0.9154 - val_loss: 0.2960 - val_tp: 116.0000 - val_fp: 45.0000 - val_tn: 565.0000 - val_fn: 48.0000 - val_accuracy: 0.8798 - val_precision: 0.7205 - val_recall: 0.7073 - val_auc: 0.9184\n",
      "Epoch 4/5\n",
      "218/218 - 14s - loss: 0.2603 - tp: 1139.0000 - fp: 283.0000 - tn: 5203.0000 - fn: 335.0000 - accuracy: 0.9112 - precision: 0.8010 - recall: 0.7727 - auc: 0.9290 - val_loss: 0.2962 - val_tp: 113.0000 - val_fp: 42.0000 - val_tn: 568.0000 - val_fn: 51.0000 - val_accuracy: 0.8798 - val_precision: 0.7290 - val_recall: 0.6890 - val_auc: 0.9114\n",
      "Epoch 5/5\n",
      "218/218 - 15s - loss: 0.2383 - tp: 1129.0000 - fp: 243.0000 - tn: 5243.0000 - fn: 345.0000 - accuracy: 0.9155 - precision: 0.8229 - recall: 0.7659 - auc: 0.9418 - val_loss: 0.3036 - val_tp: 109.0000 - val_fp: 40.0000 - val_tn: 570.0000 - val_fn: 55.0000 - val_accuracy: 0.8773 - val_precision: 0.7315 - val_recall: 0.6646 - val_auc: 0.9100\n",
      "\n",
      "Trial 5 Complete [00h 06m 39s]\n",
      "val_accuracy: 0.8821705460548401\n",
      "\n",
      "Best val_accuracy So Far: 0.8821705460548401\n",
      "Total elapsed time: 00h 43m 30s\n",
      "\n",
      "Search: Running Trial #6\n",
      "\n",
      "Hyperparameter    |Value             |Best Value So Far \n",
      "units             |48                |16                \n",
      "activation        |sigmoid           |relu              \n",
      "dropout_1         |0.05              |0.45              \n",
      "optimizer         |rmsprop           |rmsprop           \n",
      "learning_rate     |0.0001            |0.001             \n",
      "\n",
      "Epoch 1/5\n",
      "218/218 - 35s - loss: 0.3999 - tp: 549.0000 - fp: 199.0000 - tn: 5897.0000 - fn: 1089.0000 - accuracy: 0.8335 - precision: 0.7340 - recall: 0.3352 - auc: 0.8255 - val_loss: 0.3093 - val_tp: 104.0000 - val_fp: 32.0000 - val_tn: 578.0000 - val_fn: 60.0000 - val_accuracy: 0.8811 - val_precision: 0.7647 - val_recall: 0.6341 - val_auc: 0.9041\n",
      "Epoch 2/5\n",
      "218/218 - 31s - loss: 0.2984 - tp: 1005.0000 - fp: 384.0000 - tn: 5102.0000 - fn: 469.0000 - accuracy: 0.8774 - precision: 0.7235 - recall: 0.6818 - auc: 0.9096 - val_loss: 0.3219 - val_tp: 116.0000 - val_fp: 52.0000 - val_tn: 558.0000 - val_fn: 48.0000 - val_accuracy: 0.8708 - val_precision: 0.6905 - val_recall: 0.7073 - val_auc: 0.8979\n",
      "Epoch 3/5\n",
      "218/218 - 29s - loss: 0.2565 - tp: 1048.0000 - fp: 284.0000 - tn: 5202.0000 - fn: 426.0000 - accuracy: 0.8980 - precision: 0.7868 - recall: 0.7110 - auc: 0.9343 - val_loss: 0.3130 - val_tp: 97.0000 - val_fp: 41.0000 - val_tn: 569.0000 - val_fn: 67.0000 - val_accuracy: 0.8605 - val_precision: 0.7029 - val_recall: 0.5915 - val_auc: 0.9032\n",
      "Epoch 4/5\n",
      "218/218 - 28s - loss: 0.2345 - tp: 1104.0000 - fp: 274.0000 - tn: 5212.0000 - fn: 370.0000 - accuracy: 0.9075 - precision: 0.8012 - recall: 0.7490 - auc: 0.9455 - val_loss: 0.3112 - val_tp: 115.0000 - val_fp: 46.0000 - val_tn: 564.0000 - val_fn: 49.0000 - val_accuracy: 0.8773 - val_precision: 0.7143 - val_recall: 0.7012 - val_auc: 0.9079\n",
      "Epoch 5/5\n",
      "218/218 - 29s - loss: 0.2077 - tp: 1111.0000 - fp: 217.0000 - tn: 5269.0000 - fn: 363.0000 - accuracy: 0.9167 - precision: 0.8366 - recall: 0.7537 - auc: 0.9569 - val_loss: 0.3188 - val_tp: 101.0000 - val_fp: 31.0000 - val_tn: 579.0000 - val_fn: 63.0000 - val_accuracy: 0.8786 - val_precision: 0.7652 - val_recall: 0.6159 - val_auc: 0.8978\n",
      "Epoch 1/5\n",
      "218/218 - 34s - loss: 0.4077 - tp: 540.0000 - fp: 236.0000 - tn: 5860.0000 - fn: 1098.0000 - accuracy: 0.8275 - precision: 0.6959 - recall: 0.3297 - auc: 0.8153 - val_loss: 0.3478 - val_tp: 100.0000 - val_fp: 42.0000 - val_tn: 568.0000 - val_fn: 64.0000 - val_accuracy: 0.8630 - val_precision: 0.7042 - val_recall: 0.6098 - val_auc: 0.8871\n",
      "Epoch 2/5\n",
      "218/218 - 31s - loss: 0.2966 - tp: 984.0000 - fp: 310.0000 - tn: 5176.0000 - fn: 490.0000 - accuracy: 0.8851 - precision: 0.7604 - recall: 0.6676 - auc: 0.9074 - val_loss: 0.3137 - val_tp: 116.0000 - val_fp: 46.0000 - val_tn: 564.0000 - val_fn: 48.0000 - val_accuracy: 0.8786 - val_precision: 0.7160 - val_recall: 0.7073 - val_auc: 0.8992\n",
      "Epoch 3/5\n",
      "218/218 - 29s - loss: 0.2584 - tp: 1115.0000 - fp: 350.0000 - tn: 5136.0000 - fn: 359.0000 - accuracy: 0.8981 - precision: 0.7611 - recall: 0.7564 - auc: 0.9327 - val_loss: 0.3326 - val_tp: 82.0000 - val_fp: 20.0000 - val_tn: 590.0000 - val_fn: 82.0000 - val_accuracy: 0.8682 - val_precision: 0.8039 - val_recall: 0.5000 - val_auc: 0.8838\n",
      "Epoch 4/5\n",
      "218/218 - 29s - loss: 0.2322 - tp: 1066.0000 - fp: 229.0000 - tn: 5257.0000 - fn: 408.0000 - accuracy: 0.9085 - precision: 0.8232 - recall: 0.7232 - auc: 0.9471 - val_loss: 0.3081 - val_tp: 109.0000 - val_fp: 37.0000 - val_tn: 573.0000 - val_fn: 55.0000 - val_accuracy: 0.8811 - val_precision: 0.7466 - val_recall: 0.6646 - val_auc: 0.9139\n",
      "Epoch 5/5\n",
      "218/218 - 28s - loss: 0.2061 - tp: 1146.0000 - fp: 244.0000 - tn: 5242.0000 - fn: 328.0000 - accuracy: 0.9178 - precision: 0.8245 - recall: 0.7775 - auc: 0.9579 - val_loss: 0.3300 - val_tp: 108.0000 - val_fp: 32.0000 - val_tn: 578.0000 - val_fn: 56.0000 - val_accuracy: 0.8863 - val_precision: 0.7714 - val_recall: 0.6585 - val_auc: 0.9028\n",
      "Epoch 1/5\n",
      "218/218 - 34s - loss: 0.4133 - tp: 574.0000 - fp: 371.0000 - tn: 5725.0000 - fn: 1064.0000 - accuracy: 0.8145 - precision: 0.6074 - recall: 0.3504 - auc: 0.8136 - val_loss: 0.3424 - val_tp: 29.0000 - val_fp: 5.0000 - val_tn: 605.0000 - val_fn: 135.0000 - val_accuracy: 0.8191 - val_precision: 0.8529 - val_recall: 0.1768 - val_auc: 0.8999\n",
      "Epoch 2/5\n",
      "218/218 - 28s - loss: 0.3038 - tp: 941.0000 - fp: 360.0000 - tn: 5126.0000 - fn: 533.0000 - accuracy: 0.8717 - precision: 0.7233 - recall: 0.6384 - auc: 0.9061 - val_loss: 0.3629 - val_tp: 84.0000 - val_fp: 14.0000 - val_tn: 596.0000 - val_fn: 80.0000 - val_accuracy: 0.8786 - val_precision: 0.8571 - val_recall: 0.5122 - val_auc: 0.9009\n",
      "Epoch 3/5\n",
      "218/218 - 28s - loss: 0.2560 - tp: 1055.0000 - fp: 271.0000 - tn: 5215.0000 - fn: 419.0000 - accuracy: 0.9009 - precision: 0.7956 - recall: 0.7157 - auc: 0.9354 - val_loss: 0.3068 - val_tp: 99.0000 - val_fp: 36.0000 - val_tn: 574.0000 - val_fn: 65.0000 - val_accuracy: 0.8695 - val_precision: 0.7333 - val_recall: 0.6037 - val_auc: 0.8986\n",
      "Epoch 4/5\n",
      "218/218 - 27s - loss: 0.2209 - tp: 1117.0000 - fp: 270.0000 - tn: 5216.0000 - fn: 357.0000 - accuracy: 0.9099 - precision: 0.8053 - recall: 0.7578 - auc: 0.9517 - val_loss: 0.3066 - val_tp: 100.0000 - val_fp: 26.0000 - val_tn: 584.0000 - val_fn: 64.0000 - val_accuracy: 0.8837 - val_precision: 0.7937 - val_recall: 0.6098 - val_auc: 0.9073\n",
      "Epoch 5/5\n",
      "218/218 - 28s - loss: 0.2048 - tp: 1110.0000 - fp: 208.0000 - tn: 5278.0000 - fn: 364.0000 - accuracy: 0.9178 - precision: 0.8422 - recall: 0.7531 - auc: 0.9592 - val_loss: 0.3098 - val_tp: 104.0000 - val_fp: 39.0000 - val_tn: 571.0000 - val_fn: 60.0000 - val_accuracy: 0.8721 - val_precision: 0.7273 - val_recall: 0.6341 - val_auc: 0.9017\n",
      "Epoch 1/5\n",
      "218/218 - 34s - loss: 0.4058 - tp: 507.0000 - fp: 241.0000 - tn: 5855.0000 - fn: 1131.0000 - accuracy: 0.8226 - precision: 0.6778 - recall: 0.3095 - auc: 0.8215 - val_loss: 0.3321 - val_tp: 87.0000 - val_fp: 31.0000 - val_tn: 579.0000 - val_fn: 77.0000 - val_accuracy: 0.8605 - val_precision: 0.7373 - val_recall: 0.5305 - val_auc: 0.8914\n",
      "Epoch 2/5\n",
      "218/218 - 29s - loss: 0.2881 - tp: 958.0000 - fp: 304.0000 - tn: 5182.0000 - fn: 516.0000 - accuracy: 0.8822 - precision: 0.7591 - recall: 0.6499 - auc: 0.9161 - val_loss: 0.3645 - val_tp: 103.0000 - val_fp: 35.0000 - val_tn: 575.0000 - val_fn: 61.0000 - val_accuracy: 0.8760 - val_precision: 0.7464 - val_recall: 0.6280 - val_auc: 0.8934\n",
      "Epoch 3/5\n",
      "218/218 - 33s - loss: 0.2428 - tp: 1042.0000 - fp: 238.0000 - tn: 5248.0000 - fn: 432.0000 - accuracy: 0.9037 - precision: 0.8141 - recall: 0.7069 - auc: 0.9412 - val_loss: 0.3071 - val_tp: 103.0000 - val_fp: 34.0000 - val_tn: 576.0000 - val_fn: 61.0000 - val_accuracy: 0.8773 - val_precision: 0.7518 - val_recall: 0.6280 - val_auc: 0.9015\n",
      "Epoch 4/5\n",
      "218/218 - 29s - loss: 0.2190 - tp: 1087.0000 - fp: 213.0000 - tn: 5273.0000 - fn: 387.0000 - accuracy: 0.9138 - precision: 0.8362 - recall: 0.7374 - auc: 0.9523 - val_loss: 0.3116 - val_tp: 107.0000 - val_fp: 40.0000 - val_tn: 570.0000 - val_fn: 57.0000 - val_accuracy: 0.8747 - val_precision: 0.7279 - val_recall: 0.6524 - val_auc: 0.9000\n",
      "Epoch 5/5\n",
      "218/218 - 27s - loss: 0.1977 - tp: 1145.0000 - fp: 208.0000 - tn: 5278.0000 - fn: 329.0000 - accuracy: 0.9228 - precision: 0.8463 - recall: 0.7768 - auc: 0.9599 - val_loss: 0.3357 - val_tp: 95.0000 - val_fp: 30.0000 - val_tn: 580.0000 - val_fn: 69.0000 - val_accuracy: 0.8721 - val_precision: 0.7600 - val_recall: 0.5793 - val_auc: 0.8910\n",
      "Epoch 1/5\n",
      "218/218 - 33s - loss: 0.4082 - tp: 500.0000 - fp: 244.0000 - tn: 5852.0000 - fn: 1138.0000 - accuracy: 0.8213 - precision: 0.6720 - recall: 0.3053 - auc: 0.8139 - val_loss: 0.3569 - val_tp: 127.0000 - val_fp: 86.0000 - val_tn: 524.0000 - val_fn: 37.0000 - val_accuracy: 0.8411 - val_precision: 0.5962 - val_recall: 0.7744 - val_auc: 0.9060\n",
      "Epoch 2/5\n",
      "218/218 - 28s - loss: 0.2860 - tp: 980.0000 - fp: 302.0000 - tn: 5184.0000 - fn: 494.0000 - accuracy: 0.8856 - precision: 0.7644 - recall: 0.6649 - auc: 0.9146 - val_loss: 0.3212 - val_tp: 116.0000 - val_fp: 62.0000 - val_tn: 548.0000 - val_fn: 48.0000 - val_accuracy: 0.8579 - val_precision: 0.6517 - val_recall: 0.7073 - val_auc: 0.9041\n",
      "Epoch 3/5\n",
      "218/218 - 29s - loss: 0.2434 - tp: 1053.0000 - fp: 243.0000 - tn: 5243.0000 - fn: 421.0000 - accuracy: 0.9046 - precision: 0.8125 - recall: 0.7144 - auc: 0.9394 - val_loss: 0.3653 - val_tp: 89.0000 - val_fp: 18.0000 - val_tn: 592.0000 - val_fn: 75.0000 - val_accuracy: 0.8798 - val_precision: 0.8318 - val_recall: 0.5427 - val_auc: 0.9025\n",
      "Epoch 4/5\n",
      "218/218 - 29s - loss: 0.2166 - tp: 1117.0000 - fp: 230.0000 - tn: 5256.0000 - fn: 357.0000 - accuracy: 0.9157 - precision: 0.8293 - recall: 0.7578 - auc: 0.9523 - val_loss: 0.3238 - val_tp: 104.0000 - val_fp: 42.0000 - val_tn: 568.0000 - val_fn: 60.0000 - val_accuracy: 0.8682 - val_precision: 0.7123 - val_recall: 0.6341 - val_auc: 0.8885\n",
      "Epoch 5/5\n",
      "218/218 - 30s - loss: 0.2025 - tp: 1137.0000 - fp: 215.0000 - tn: 5271.0000 - fn: 337.0000 - accuracy: 0.9207 - precision: 0.8410 - recall: 0.7714 - auc: 0.9589 - val_loss: 0.3275 - val_tp: 101.0000 - val_fp: 34.0000 - val_tn: 576.0000 - val_fn: 63.0000 - val_accuracy: 0.8747 - val_precision: 0.7481 - val_recall: 0.6159 - val_auc: 0.8882\n",
      "\n",
      "Trial 6 Complete [00h 12m 33s]\n",
      "val_accuracy: 0.8816537499427796\n",
      "\n",
      "Best val_accuracy So Far: 0.8821705460548401\n",
      "Total elapsed time: 00h 56m 03s\n",
      "\n",
      "Search: Running Trial #7\n",
      "\n",
      "Hyperparameter    |Value             |Best Value So Far \n",
      "units             |8                 |16                \n",
      "activation        |relu              |relu              \n",
      "dropout_1         |0.3               |0.45              \n",
      "optimizer         |rmsprop           |rmsprop           \n",
      "learning_rate     |0.0001            |0.001             \n",
      "\n",
      "Epoch 1/5\n",
      "218/218 - 20s - loss: 0.5094 - tp: 103.0000 - fp: 45.0000 - tn: 6051.0000 - fn: 1535.0000 - accuracy: 0.7957 - precision: 0.6959 - recall: 0.0629 - auc: 0.6676 - val_loss: 0.3951 - val_tp: 0.0000e+00 - val_fp: 0.0000e+00 - val_tn: 610.0000 - val_fn: 164.0000 - val_accuracy: 0.7881 - val_precision: 0.0000e+00 - val_recall: 0.0000e+00 - val_auc: 0.8577\n",
      "Epoch 2/5\n",
      "218/218 - 16s - loss: 0.3896 - tp: 82.0000 - fp: 25.0000 - tn: 5461.0000 - fn: 1392.0000 - accuracy: 0.7964 - precision: 0.7664 - recall: 0.0556 - auc: 0.8441 - val_loss: 0.3424 - val_tp: 18.0000 - val_fp: 4.0000 - val_tn: 606.0000 - val_fn: 146.0000 - val_accuracy: 0.8062 - val_precision: 0.8182 - val_recall: 0.1098 - val_auc: 0.8975\n",
      "Epoch 3/5\n",
      "218/218 - 18s - loss: 0.3370 - tp: 622.0000 - fp: 199.0000 - tn: 5287.0000 - fn: 852.0000 - accuracy: 0.8490 - precision: 0.7576 - recall: 0.4220 - auc: 0.8945 - val_loss: 0.3264 - val_tp: 97.0000 - val_fp: 25.0000 - val_tn: 585.0000 - val_fn: 67.0000 - val_accuracy: 0.8811 - val_precision: 0.7951 - val_recall: 0.5915 - val_auc: 0.9074\n",
      "Epoch 4/5\n",
      "218/218 - 17s - loss: 0.3067 - tp: 851.0000 - fp: 350.0000 - tn: 5136.0000 - fn: 623.0000 - accuracy: 0.8602 - precision: 0.7086 - recall: 0.5773 - auc: 0.9101 - val_loss: 0.3218 - val_tp: 109.0000 - val_fp: 50.0000 - val_tn: 560.0000 - val_fn: 55.0000 - val_accuracy: 0.8643 - val_precision: 0.6855 - val_recall: 0.6646 - val_auc: 0.9040\n",
      "Epoch 5/5\n",
      "218/218 - 14s - loss: 0.2805 - tp: 1110.0000 - fp: 480.0000 - tn: 5006.0000 - fn: 364.0000 - accuracy: 0.8787 - precision: 0.6981 - recall: 0.7531 - auc: 0.9239 - val_loss: 0.3206 - val_tp: 122.0000 - val_fp: 67.0000 - val_tn: 543.0000 - val_fn: 42.0000 - val_accuracy: 0.8592 - val_precision: 0.6455 - val_recall: 0.7439 - val_auc: 0.9082\n",
      "Epoch 1/5\n",
      "218/218 - 20s - loss: 0.4885 - tp: 124.0000 - fp: 67.0000 - tn: 6029.0000 - fn: 1514.0000 - accuracy: 0.7956 - precision: 0.6492 - recall: 0.0757 - auc: 0.6969 - val_loss: 0.4015 - val_tp: 0.0000e+00 - val_fp: 0.0000e+00 - val_tn: 610.0000 - val_fn: 164.0000 - val_accuracy: 0.7881 - val_precision: 0.0000e+00 - val_recall: 0.0000e+00 - val_auc: 0.8475\n",
      "Epoch 2/5\n",
      "218/218 - 15s - loss: 0.3738 - tp: 93.0000 - fp: 23.0000 - tn: 5463.0000 - fn: 1381.0000 - accuracy: 0.7983 - precision: 0.8017 - recall: 0.0631 - auc: 0.8643 - val_loss: 0.3373 - val_tp: 58.0000 - val_fp: 30.0000 - val_tn: 580.0000 - val_fn: 106.0000 - val_accuracy: 0.8243 - val_precision: 0.6591 - val_recall: 0.3537 - val_auc: 0.8916\n",
      "Epoch 3/5\n",
      "218/218 - 15s - loss: 0.3260 - tp: 789.0000 - fp: 253.0000 - tn: 5233.0000 - fn: 685.0000 - accuracy: 0.8652 - precision: 0.7572 - recall: 0.5353 - auc: 0.9013 - val_loss: 0.3199 - val_tp: 105.0000 - val_fp: 46.0000 - val_tn: 564.0000 - val_fn: 59.0000 - val_accuracy: 0.8643 - val_precision: 0.6954 - val_recall: 0.6402 - val_auc: 0.9052\n",
      "Epoch 4/5\n",
      "218/218 - 15s - loss: 0.2890 - tp: 1018.0000 - fp: 331.0000 - tn: 5155.0000 - fn: 456.0000 - accuracy: 0.8869 - precision: 0.7546 - recall: 0.6906 - auc: 0.9240 - val_loss: 0.3215 - val_tp: 107.0000 - val_fp: 47.0000 - val_tn: 563.0000 - val_fn: 57.0000 - val_accuracy: 0.8656 - val_precision: 0.6948 - val_recall: 0.6524 - val_auc: 0.9044\n",
      "Epoch 5/5\n",
      "218/218 - 14s - loss: 0.2633 - tp: 1110.0000 - fp: 340.0000 - tn: 5146.0000 - fn: 364.0000 - accuracy: 0.8989 - precision: 0.7655 - recall: 0.7531 - auc: 0.9350 - val_loss: 0.3253 - val_tp: 112.0000 - val_fp: 43.0000 - val_tn: 567.0000 - val_fn: 52.0000 - val_accuracy: 0.8773 - val_precision: 0.7226 - val_recall: 0.6829 - val_auc: 0.9093\n",
      "Epoch 1/5\n",
      "218/218 - 21s - loss: 0.5094 - tp: 121.0000 - fp: 57.0000 - tn: 6039.0000 - fn: 1517.0000 - accuracy: 0.7965 - precision: 0.6798 - recall: 0.0739 - auc: 0.6698 - val_loss: 0.4010 - val_tp: 0.0000e+00 - val_fp: 0.0000e+00 - val_tn: 610.0000 - val_fn: 164.0000 - val_accuracy: 0.7881 - val_precision: 0.0000e+00 - val_recall: 0.0000e+00 - val_auc: 0.8537\n",
      "Epoch 2/5\n",
      "218/218 - 14s - loss: 0.3724 - tp: 464.0000 - fp: 180.0000 - tn: 5306.0000 - fn: 1010.0000 - accuracy: 0.8290 - precision: 0.7205 - recall: 0.3148 - auc: 0.8568 - val_loss: 0.3243 - val_tp: 91.0000 - val_fp: 32.0000 - val_tn: 578.0000 - val_fn: 73.0000 - val_accuracy: 0.8643 - val_precision: 0.7398 - val_recall: 0.5549 - val_auc: 0.9054\n",
      "Epoch 3/5\n",
      "218/218 - 14s - loss: 0.3094 - tp: 989.0000 - fp: 375.0000 - tn: 5111.0000 - fn: 485.0000 - accuracy: 0.8764 - precision: 0.7251 - recall: 0.6710 - auc: 0.9055 - val_loss: 0.3234 - val_tp: 94.0000 - val_fp: 26.0000 - val_tn: 584.0000 - val_fn: 70.0000 - val_accuracy: 0.8760 - val_precision: 0.7833 - val_recall: 0.5732 - val_auc: 0.9123\n",
      "Epoch 4/5\n",
      "218/218 - 14s - loss: 0.2738 - tp: 1099.0000 - fp: 353.0000 - tn: 5133.0000 - fn: 375.0000 - accuracy: 0.8954 - precision: 0.7569 - recall: 0.7456 - auc: 0.9251 - val_loss: 0.3024 - val_tp: 107.0000 - val_fp: 43.0000 - val_tn: 567.0000 - val_fn: 57.0000 - val_accuracy: 0.8708 - val_precision: 0.7133 - val_recall: 0.6524 - val_auc: 0.9128\n",
      "Epoch 5/5\n",
      "218/218 - 15s - loss: 0.2509 - tp: 1156.0000 - fp: 335.0000 - tn: 5151.0000 - fn: 318.0000 - accuracy: 0.9062 - precision: 0.7753 - recall: 0.7843 - auc: 0.9369 - val_loss: 0.3156 - val_tp: 108.0000 - val_fp: 33.0000 - val_tn: 577.0000 - val_fn: 56.0000 - val_accuracy: 0.8850 - val_precision: 0.7660 - val_recall: 0.6585 - val_auc: 0.9130\n",
      "Epoch 1/5\n",
      "218/218 - 21s - loss: 0.5125 - tp: 111.0000 - fp: 61.0000 - tn: 6035.0000 - fn: 1527.0000 - accuracy: 0.7947 - precision: 0.6453 - recall: 0.0678 - auc: 0.6618 - val_loss: 0.4021 - val_tp: 0.0000e+00 - val_fp: 0.0000e+00 - val_tn: 610.0000 - val_fn: 164.0000 - val_accuracy: 0.7881 - val_precision: 0.0000e+00 - val_recall: 0.0000e+00 - val_auc: 0.8433\n",
      "Epoch 2/5\n",
      "218/218 - 15s - loss: 0.3839 - tp: 279.0000 - fp: 103.0000 - tn: 5383.0000 - fn: 1195.0000 - accuracy: 0.8135 - precision: 0.7304 - recall: 0.1893 - auc: 0.8446 - val_loss: 0.3432 - val_tp: 80.0000 - val_fp: 37.0000 - val_tn: 573.0000 - val_fn: 84.0000 - val_accuracy: 0.8437 - val_precision: 0.6838 - val_recall: 0.4878 - val_auc: 0.8892\n",
      "Epoch 3/5\n",
      "218/218 - 14s - loss: 0.3309 - tp: 706.0000 - fp: 303.0000 - tn: 5183.0000 - fn: 768.0000 - accuracy: 0.8461 - precision: 0.6997 - recall: 0.4790 - auc: 0.8906 - val_loss: 0.3254 - val_tp: 99.0000 - val_fp: 34.0000 - val_tn: 576.0000 - val_fn: 65.0000 - val_accuracy: 0.8721 - val_precision: 0.7444 - val_recall: 0.6037 - val_auc: 0.9069\n",
      "Epoch 4/5\n",
      "218/218 - 14s - loss: 0.2982 - tp: 817.0000 - fp: 291.0000 - tn: 5195.0000 - fn: 657.0000 - accuracy: 0.8638 - precision: 0.7374 - recall: 0.5543 - auc: 0.9111 - val_loss: 0.3225 - val_tp: 126.0000 - val_fp: 89.0000 - val_tn: 521.0000 - val_fn: 38.0000 - val_accuracy: 0.8359 - val_precision: 0.5860 - val_recall: 0.7683 - val_auc: 0.9071\n",
      "Epoch 5/5\n",
      "218/218 - 14s - loss: 0.2763 - tp: 968.0000 - fp: 374.0000 - tn: 5112.0000 - fn: 506.0000 - accuracy: 0.8736 - precision: 0.7213 - recall: 0.6567 - auc: 0.9240 - val_loss: 0.3619 - val_tp: 97.0000 - val_fp: 29.0000 - val_tn: 581.0000 - val_fn: 67.0000 - val_accuracy: 0.8760 - val_precision: 0.7698 - val_recall: 0.5915 - val_auc: 0.8956\n",
      "Epoch 1/5\n",
      "218/218 - 19s - loss: 0.4812 - tp: 99.0000 - fp: 37.0000 - tn: 6059.0000 - fn: 1539.0000 - accuracy: 0.7962 - precision: 0.7279 - recall: 0.0604 - auc: 0.7047 - val_loss: 0.3940 - val_tp: 0.0000e+00 - val_fp: 0.0000e+00 - val_tn: 610.0000 - val_fn: 164.0000 - val_accuracy: 0.7881 - val_precision: 0.0000e+00 - val_recall: 0.0000e+00 - val_auc: 0.8434\n",
      "Epoch 2/5\n",
      "218/218 - 17s - loss: 0.3721 - tp: 378.0000 - fp: 127.0000 - tn: 5359.0000 - fn: 1096.0000 - accuracy: 0.8243 - precision: 0.7485 - recall: 0.2564 - auc: 0.8617 - val_loss: 0.3344 - val_tp: 66.0000 - val_fp: 21.0000 - val_tn: 589.0000 - val_fn: 98.0000 - val_accuracy: 0.8463 - val_precision: 0.7586 - val_recall: 0.4024 - val_auc: 0.8982\n",
      "Epoch 3/5\n",
      "218/218 - 15s - loss: 0.3164 - tp: 914.0000 - fp: 319.0000 - tn: 5167.0000 - fn: 560.0000 - accuracy: 0.8737 - precision: 0.7413 - recall: 0.6201 - auc: 0.9025 - val_loss: 0.3397 - val_tp: 117.0000 - val_fp: 83.0000 - val_tn: 527.0000 - val_fn: 47.0000 - val_accuracy: 0.8320 - val_precision: 0.5850 - val_recall: 0.7134 - val_auc: 0.8990\n",
      "Epoch 4/5\n",
      "218/218 - 14s - loss: 0.2806 - tp: 1063.0000 - fp: 354.0000 - tn: 5132.0000 - fn: 411.0000 - accuracy: 0.8901 - precision: 0.7502 - recall: 0.7212 - auc: 0.9224 - val_loss: 0.3094 - val_tp: 104.0000 - val_fp: 48.0000 - val_tn: 562.0000 - val_fn: 60.0000 - val_accuracy: 0.8605 - val_precision: 0.6842 - val_recall: 0.6341 - val_auc: 0.9081\n",
      "Epoch 5/5\n",
      "218/218 - 14s - loss: 0.2564 - tp: 1114.0000 - fp: 334.0000 - tn: 5152.0000 - fn: 360.0000 - accuracy: 0.9003 - precision: 0.7693 - recall: 0.7558 - auc: 0.9345 - val_loss: 0.3213 - val_tp: 110.0000 - val_fp: 49.0000 - val_tn: 561.0000 - val_fn: 54.0000 - val_accuracy: 0.8669 - val_precision: 0.6918 - val_recall: 0.6707 - val_auc: 0.9107\n",
      "\n",
      "Trial 7 Complete [00h 06m 45s]\n",
      "val_accuracy: 0.8772609829902649\n",
      "\n",
      "Best val_accuracy So Far: 0.8821705460548401\n",
      "Total elapsed time: 01h 02m 48s\n",
      "\n",
      "Search: Running Trial #8\n",
      "\n",
      "Hyperparameter    |Value             |Best Value So Far \n",
      "units             |24                |16                \n",
      "activation        |sigmoid           |relu              \n",
      "dropout_1         |0.3               |0.45              \n",
      "optimizer         |adam              |rmsprop           \n",
      "learning_rate     |0.001             |0.001             \n",
      "\n",
      "Epoch 1/5\n",
      "218/218 - 22s - loss: 0.6531 - tp: 374.0000 - fp: 1052.0000 - tn: 5044.0000 - fn: 1264.0000 - accuracy: 0.7005 - precision: 0.2623 - recall: 0.2283 - auc: 0.5545 - val_loss: 0.5139 - val_tp: 0.0000e+00 - val_fp: 0.0000e+00 - val_tn: 610.0000 - val_fn: 164.0000 - val_accuracy: 0.7881 - val_precision: 0.0000e+00 - val_recall: 0.0000e+00 - val_auc: 0.6578\n",
      "Epoch 2/5\n",
      "218/218 - 16s - loss: 0.5213 - tp: 9.0000 - fp: 12.0000 - tn: 5474.0000 - fn: 1465.0000 - accuracy: 0.7878 - precision: 0.4286 - recall: 0.0061 - auc: 0.5475 - val_loss: 0.4873 - val_tp: 0.0000e+00 - val_fp: 0.0000e+00 - val_tn: 610.0000 - val_fn: 164.0000 - val_accuracy: 0.7881 - val_precision: 0.0000e+00 - val_recall: 0.0000e+00 - val_auc: 0.7691\n",
      "Epoch 3/5\n",
      "218/218 - 15s - loss: 0.4113 - tp: 548.0000 - fp: 247.0000 - tn: 5239.0000 - fn: 926.0000 - accuracy: 0.8315 - precision: 0.6893 - recall: 0.3718 - auc: 0.8095 - val_loss: 0.3801 - val_tp: 77.0000 - val_fp: 32.0000 - val_tn: 578.0000 - val_fn: 87.0000 - val_accuracy: 0.8463 - val_precision: 0.7064 - val_recall: 0.4695 - val_auc: 0.8424\n",
      "Epoch 4/5\n",
      "218/218 - 17s - loss: 0.2943 - tp: 1013.0000 - fp: 290.0000 - tn: 5196.0000 - fn: 461.0000 - accuracy: 0.8921 - precision: 0.7774 - recall: 0.6872 - auc: 0.9090 - val_loss: 0.3666 - val_tp: 95.0000 - val_fp: 51.0000 - val_tn: 559.0000 - val_fn: 69.0000 - val_accuracy: 0.8450 - val_precision: 0.6507 - val_recall: 0.5793 - val_auc: 0.8544\n",
      "Epoch 5/5\n",
      "218/218 - 16s - loss: 0.2299 - tp: 1164.0000 - fp: 202.0000 - tn: 5284.0000 - fn: 310.0000 - accuracy: 0.9264 - precision: 0.8521 - recall: 0.7897 - auc: 0.9412 - val_loss: 0.3711 - val_tp: 96.0000 - val_fp: 39.0000 - val_tn: 571.0000 - val_fn: 68.0000 - val_accuracy: 0.8618 - val_precision: 0.7111 - val_recall: 0.5854 - val_auc: 0.8633\n",
      "Epoch 1/5\n",
      "218/218 - 21s - loss: 0.4578 - tp: 335.0000 - fp: 272.0000 - tn: 5824.0000 - fn: 1303.0000 - accuracy: 0.7964 - precision: 0.5519 - recall: 0.2045 - auc: 0.7480 - val_loss: 0.3484 - val_tp: 101.0000 - val_fp: 49.0000 - val_tn: 561.0000 - val_fn: 63.0000 - val_accuracy: 0.8553 - val_precision: 0.6733 - val_recall: 0.6159 - val_auc: 0.8888\n",
      "Epoch 2/5\n",
      "218/218 - 19s - loss: 0.3120 - tp: 966.0000 - fp: 405.0000 - tn: 5081.0000 - fn: 508.0000 - accuracy: 0.8688 - precision: 0.7046 - recall: 0.6554 - auc: 0.8986 - val_loss: 0.3394 - val_tp: 98.0000 - val_fp: 38.0000 - val_tn: 572.0000 - val_fn: 66.0000 - val_accuracy: 0.8656 - val_precision: 0.7206 - val_recall: 0.5976 - val_auc: 0.8851\n",
      "Epoch 3/5\n",
      "218/218 - 18s - loss: 0.2416 - tp: 1151.0000 - fp: 315.0000 - tn: 5171.0000 - fn: 323.0000 - accuracy: 0.9083 - precision: 0.7851 - recall: 0.7809 - auc: 0.9408 - val_loss: 0.3540 - val_tp: 103.0000 - val_fp: 44.0000 - val_tn: 566.0000 - val_fn: 61.0000 - val_accuracy: 0.8643 - val_precision: 0.7007 - val_recall: 0.6280 - val_auc: 0.8835\n",
      "Epoch 4/5\n",
      "218/218 - 16s - loss: 0.1966 - tp: 1241.0000 - fp: 287.0000 - tn: 5199.0000 - fn: 233.0000 - accuracy: 0.9253 - precision: 0.8122 - recall: 0.8419 - auc: 0.9604 - val_loss: 0.3473 - val_tp: 113.0000 - val_fp: 51.0000 - val_tn: 559.0000 - val_fn: 51.0000 - val_accuracy: 0.8682 - val_precision: 0.6890 - val_recall: 0.6890 - val_auc: 0.8882\n",
      "Epoch 5/5\n",
      "218/218 - 19s - loss: 0.1782 - tp: 1261.0000 - fp: 243.0000 - tn: 5243.0000 - fn: 213.0000 - accuracy: 0.9345 - precision: 0.8384 - recall: 0.8555 - auc: 0.9667 - val_loss: 0.4186 - val_tp: 69.0000 - val_fp: 25.0000 - val_tn: 585.0000 - val_fn: 95.0000 - val_accuracy: 0.8450 - val_precision: 0.7340 - val_recall: 0.4207 - val_auc: 0.8498\n",
      "Epoch 1/5\n",
      "218/218 - 21s - loss: 0.5420 - tp: 148.0000 - fp: 303.0000 - tn: 5793.0000 - fn: 1490.0000 - accuracy: 0.7682 - precision: 0.3282 - recall: 0.0904 - auc: 0.5811 - val_loss: 0.4322 - val_tp: 0.0000e+00 - val_fp: 0.0000e+00 - val_tn: 610.0000 - val_fn: 164.0000 - val_accuracy: 0.7881 - val_precision: 0.0000e+00 - val_recall: 0.0000e+00 - val_auc: 0.8239\n",
      "Epoch 2/5\n",
      "218/218 - 17s - loss: 0.3784 - tp: 548.0000 - fp: 282.0000 - tn: 5204.0000 - fn: 926.0000 - accuracy: 0.8264 - precision: 0.6602 - recall: 0.3718 - auc: 0.8476 - val_loss: 0.3500 - val_tp: 99.0000 - val_fp: 48.0000 - val_tn: 562.0000 - val_fn: 65.0000 - val_accuracy: 0.8540 - val_precision: 0.6735 - val_recall: 0.6037 - val_auc: 0.8838\n",
      "Epoch 3/5\n",
      "218/218 - 17s - loss: 0.2835 - tp: 1022.0000 - fp: 360.0000 - tn: 5126.0000 - fn: 452.0000 - accuracy: 0.8833 - precision: 0.7395 - recall: 0.6934 - auc: 0.9178 - val_loss: 0.3421 - val_tp: 109.0000 - val_fp: 65.0000 - val_tn: 545.0000 - val_fn: 55.0000 - val_accuracy: 0.8450 - val_precision: 0.6264 - val_recall: 0.6646 - val_auc: 0.8798\n",
      "Epoch 4/5\n",
      "218/218 - 16s - loss: 0.2195 - tp: 1199.0000 - fp: 314.0000 - tn: 5172.0000 - fn: 275.0000 - accuracy: 0.9154 - precision: 0.7925 - recall: 0.8134 - auc: 0.9497 - val_loss: 0.3562 - val_tp: 103.0000 - val_fp: 53.0000 - val_tn: 557.0000 - val_fn: 61.0000 - val_accuracy: 0.8527 - val_precision: 0.6603 - val_recall: 0.6280 - val_auc: 0.8829\n",
      "Epoch 5/5\n",
      "218/218 - 17s - loss: 0.1783 - tp: 1276.0000 - fp: 243.0000 - tn: 5243.0000 - fn: 198.0000 - accuracy: 0.9366 - precision: 0.8400 - recall: 0.8657 - auc: 0.9657 - val_loss: 0.3880 - val_tp: 107.0000 - val_fp: 64.0000 - val_tn: 546.0000 - val_fn: 57.0000 - val_accuracy: 0.8437 - val_precision: 0.6257 - val_recall: 0.6524 - val_auc: 0.8621\n",
      "Epoch 1/5\n",
      "218/218 - 21s - loss: 0.4620 - tp: 298.0000 - fp: 259.0000 - tn: 5837.0000 - fn: 1340.0000 - accuracy: 0.7933 - precision: 0.5350 - recall: 0.1819 - auc: 0.7411 - val_loss: 0.3625 - val_tp: 112.0000 - val_fp: 65.0000 - val_tn: 545.0000 - val_fn: 52.0000 - val_accuracy: 0.8488 - val_precision: 0.6328 - val_recall: 0.6829 - val_auc: 0.8857\n",
      "Epoch 2/5\n",
      "218/218 - 16s - loss: 0.3059 - tp: 952.0000 - fp: 366.0000 - tn: 5120.0000 - fn: 522.0000 - accuracy: 0.8724 - precision: 0.7223 - recall: 0.6459 - auc: 0.8998 - val_loss: 0.3231 - val_tp: 114.0000 - val_fp: 57.0000 - val_tn: 553.0000 - val_fn: 50.0000 - val_accuracy: 0.8618 - val_precision: 0.6667 - val_recall: 0.6951 - val_auc: 0.8977\n",
      "Epoch 3/5\n",
      "218/218 - 18s - loss: 0.2289 - tp: 1173.0000 - fp: 297.0000 - tn: 5189.0000 - fn: 301.0000 - accuracy: 0.9141 - precision: 0.7980 - recall: 0.7958 - auc: 0.9461 - val_loss: 0.3427 - val_tp: 104.0000 - val_fp: 33.0000 - val_tn: 577.0000 - val_fn: 60.0000 - val_accuracy: 0.8798 - val_precision: 0.7591 - val_recall: 0.6341 - val_auc: 0.8947\n",
      "Epoch 4/5\n",
      "218/218 - 18s - loss: 0.1926 - tp: 1226.0000 - fp: 248.0000 - tn: 5238.0000 - fn: 248.0000 - accuracy: 0.9287 - precision: 0.8318 - recall: 0.8318 - auc: 0.9609 - val_loss: 0.3826 - val_tp: 94.0000 - val_fp: 38.0000 - val_tn: 572.0000 - val_fn: 70.0000 - val_accuracy: 0.8605 - val_precision: 0.7121 - val_recall: 0.5732 - val_auc: 0.8741\n",
      "Epoch 5/5\n",
      "218/218 - 17s - loss: 0.1611 - tp: 1274.0000 - fp: 222.0000 - tn: 5264.0000 - fn: 200.0000 - accuracy: 0.9394 - precision: 0.8516 - recall: 0.8643 - auc: 0.9740 - val_loss: 0.3713 - val_tp: 115.0000 - val_fp: 54.0000 - val_tn: 556.0000 - val_fn: 49.0000 - val_accuracy: 0.8669 - val_precision: 0.6805 - val_recall: 0.7012 - val_auc: 0.8862\n",
      "Epoch 1/5\n",
      "218/218 - 21s - loss: 0.5012 - tp: 213.0000 - fp: 250.0000 - tn: 5846.0000 - fn: 1425.0000 - accuracy: 0.7834 - precision: 0.4600 - recall: 0.1300 - auc: 0.6801 - val_loss: 0.3776 - val_tp: 4.0000 - val_fp: 2.0000 - val_tn: 608.0000 - val_fn: 160.0000 - val_accuracy: 0.7907 - val_precision: 0.6667 - val_recall: 0.0244 - val_auc: 0.8743\n",
      "Epoch 2/5\n",
      "218/218 - 16s - loss: 0.3414 - tp: 811.0000 - fp: 307.0000 - tn: 5179.0000 - fn: 663.0000 - accuracy: 0.8606 - precision: 0.7254 - recall: 0.5502 - auc: 0.8689 - val_loss: 0.3258 - val_tp: 105.0000 - val_fp: 37.0000 - val_tn: 573.0000 - val_fn: 59.0000 - val_accuracy: 0.8760 - val_precision: 0.7394 - val_recall: 0.6402 - val_auc: 0.8850\n",
      "Epoch 3/5\n",
      "218/218 - 16s - loss: 0.2627 - tp: 1144.0000 - fp: 353.0000 - tn: 5133.0000 - fn: 330.0000 - accuracy: 0.9019 - precision: 0.7642 - recall: 0.7761 - auc: 0.9282 - val_loss: 0.3377 - val_tp: 106.0000 - val_fp: 40.0000 - val_tn: 570.0000 - val_fn: 58.0000 - val_accuracy: 0.8734 - val_precision: 0.7260 - val_recall: 0.6463 - val_auc: 0.8800\n",
      "Epoch 4/5\n",
      "218/218 - 16s - loss: 0.2062 - tp: 1226.0000 - fp: 278.0000 - tn: 5208.0000 - fn: 248.0000 - accuracy: 0.9244 - precision: 0.8152 - recall: 0.8318 - auc: 0.9539 - val_loss: 0.3676 - val_tp: 109.0000 - val_fp: 44.0000 - val_tn: 566.0000 - val_fn: 55.0000 - val_accuracy: 0.8721 - val_precision: 0.7124 - val_recall: 0.6646 - val_auc: 0.8699\n",
      "Epoch 5/5\n",
      "218/218 - 16s - loss: 0.1674 - tp: 1290.0000 - fp: 240.0000 - tn: 5246.0000 - fn: 184.0000 - accuracy: 0.9391 - precision: 0.8431 - recall: 0.8752 - auc: 0.9681 - val_loss: 0.3699 - val_tp: 119.0000 - val_fp: 58.0000 - val_tn: 552.0000 - val_fn: 45.0000 - val_accuracy: 0.8669 - val_precision: 0.6723 - val_recall: 0.7256 - val_auc: 0.8848\n",
      "\n",
      "Trial 8 Complete [00h 07m 26s]\n",
      "val_accuracy: 0.8679586529731751\n",
      "\n",
      "Best val_accuracy So Far: 0.8821705460548401\n",
      "Total elapsed time: 01h 10m 15s\n",
      "\n",
      "Search: Running Trial #9\n",
      "\n",
      "Hyperparameter    |Value             |Best Value So Far \n",
      "units             |32                |16                \n",
      "activation        |sigmoid           |relu              \n",
      "dropout_1         |0                 |0.45              \n",
      "optimizer         |sgd               |rmsprop           \n",
      "learning_rate     |0.001             |0.001             \n",
      "\n",
      "Epoch 1/5\n",
      "218/218 - 24s - loss: 0.5235 - tp: 119.0000 - fp: 58.0000 - tn: 6038.0000 - fn: 1519.0000 - accuracy: 0.7961 - precision: 0.6723 - recall: 0.0726 - auc: 0.5595 - val_loss: 0.5165 - val_tp: 0.0000e+00 - val_fp: 0.0000e+00 - val_tn: 610.0000 - val_fn: 164.0000 - val_accuracy: 0.7881 - val_precision: 0.0000e+00 - val_recall: 0.0000e+00 - val_auc: 0.5000\n",
      "Epoch 2/5\n",
      "218/218 - 20s - loss: 0.5164 - tp: 0.0000e+00 - fp: 0.0000e+00 - tn: 5486.0000 - fn: 1474.0000 - accuracy: 0.7882 - precision: 0.0000e+00 - recall: 0.0000e+00 - auc: 0.4962 - val_loss: 0.5165 - val_tp: 0.0000e+00 - val_fp: 0.0000e+00 - val_tn: 610.0000 - val_fn: 164.0000 - val_accuracy: 0.7881 - val_precision: 0.0000e+00 - val_recall: 0.0000e+00 - val_auc: 0.5000\n",
      "Epoch 3/5\n",
      "218/218 - 20s - loss: 0.5165 - tp: 0.0000e+00 - fp: 0.0000e+00 - tn: 5486.0000 - fn: 1474.0000 - accuracy: 0.7882 - precision: 0.0000e+00 - recall: 0.0000e+00 - auc: 0.4921 - val_loss: 0.5165 - val_tp: 0.0000e+00 - val_fp: 0.0000e+00 - val_tn: 610.0000 - val_fn: 164.0000 - val_accuracy: 0.7881 - val_precision: 0.0000e+00 - val_recall: 0.0000e+00 - val_auc: 0.5398\n",
      "Epoch 4/5\n",
      "218/218 - 18s - loss: 0.5165 - tp: 0.0000e+00 - fp: 0.0000e+00 - tn: 5486.0000 - fn: 1474.0000 - accuracy: 0.7882 - precision: 0.0000e+00 - recall: 0.0000e+00 - auc: 0.4947 - val_loss: 0.5164 - val_tp: 0.0000e+00 - val_fp: 0.0000e+00 - val_tn: 610.0000 - val_fn: 164.0000 - val_accuracy: 0.7881 - val_precision: 0.0000e+00 - val_recall: 0.0000e+00 - val_auc: 0.4997\n",
      "Epoch 5/5\n",
      "218/218 - 18s - loss: 0.5164 - tp: 0.0000e+00 - fp: 0.0000e+00 - tn: 5486.0000 - fn: 1474.0000 - accuracy: 0.7882 - precision: 0.0000e+00 - recall: 0.0000e+00 - auc: 0.5031 - val_loss: 0.5164 - val_tp: 0.0000e+00 - val_fp: 0.0000e+00 - val_tn: 610.0000 - val_fn: 164.0000 - val_accuracy: 0.7881 - val_precision: 0.0000e+00 - val_recall: 0.0000e+00 - val_auc: 0.5061\n",
      "Epoch 1/5\n",
      "218/218 - 22s - loss: 0.5251 - tp: 0.0000e+00 - fp: 0.0000e+00 - tn: 6096.0000 - fn: 1638.0000 - accuracy: 0.7882 - precision: 0.0000e+00 - recall: 0.0000e+00 - auc: 0.4949 - val_loss: 0.5167 - val_tp: 0.0000e+00 - val_fp: 0.0000e+00 - val_tn: 610.0000 - val_fn: 164.0000 - val_accuracy: 0.7881 - val_precision: 0.0000e+00 - val_recall: 0.0000e+00 - val_auc: 0.5027\n",
      "Epoch 2/5\n",
      "218/218 - 17s - loss: 0.5165 - tp: 0.0000e+00 - fp: 0.0000e+00 - tn: 5486.0000 - fn: 1474.0000 - accuracy: 0.7882 - precision: 0.0000e+00 - recall: 0.0000e+00 - auc: 0.4890 - val_loss: 0.5164 - val_tp: 0.0000e+00 - val_fp: 0.0000e+00 - val_tn: 610.0000 - val_fn: 164.0000 - val_accuracy: 0.7881 - val_precision: 0.0000e+00 - val_recall: 0.0000e+00 - val_auc: 0.5000\n",
      "Epoch 3/5\n",
      "218/218 - 18s - loss: 0.5165 - tp: 0.0000e+00 - fp: 0.0000e+00 - tn: 5486.0000 - fn: 1474.0000 - accuracy: 0.7882 - precision: 0.0000e+00 - recall: 0.0000e+00 - auc: 0.4786 - val_loss: 0.5164 - val_tp: 0.0000e+00 - val_fp: 0.0000e+00 - val_tn: 610.0000 - val_fn: 164.0000 - val_accuracy: 0.7881 - val_precision: 0.0000e+00 - val_recall: 0.0000e+00 - val_auc: 0.5000\n",
      "Epoch 4/5\n",
      "218/218 - 18s - loss: 0.5164 - tp: 0.0000e+00 - fp: 0.0000e+00 - tn: 5486.0000 - fn: 1474.0000 - accuracy: 0.7882 - precision: 0.0000e+00 - recall: 0.0000e+00 - auc: 0.4962 - val_loss: 0.5163 - val_tp: 0.0000e+00 - val_fp: 0.0000e+00 - val_tn: 610.0000 - val_fn: 164.0000 - val_accuracy: 0.7881 - val_precision: 0.0000e+00 - val_recall: 0.0000e+00 - val_auc: 0.5000\n",
      "Epoch 5/5\n",
      "218/218 - 18s - loss: 0.5163 - tp: 0.0000e+00 - fp: 0.0000e+00 - tn: 5486.0000 - fn: 1474.0000 - accuracy: 0.7882 - precision: 0.0000e+00 - recall: 0.0000e+00 - auc: 0.5102 - val_loss: 0.5164 - val_tp: 0.0000e+00 - val_fp: 0.0000e+00 - val_tn: 610.0000 - val_fn: 164.0000 - val_accuracy: 0.7881 - val_precision: 0.0000e+00 - val_recall: 0.0000e+00 - val_auc: 0.5166\n",
      "Epoch 1/5\n",
      "218/218 - 22s - loss: 0.5490 - tp: 59.0000 - fp: 262.0000 - tn: 5834.0000 - fn: 1579.0000 - accuracy: 0.7620 - precision: 0.1838 - recall: 0.0360 - auc: 0.4903 - val_loss: 0.5170 - val_tp: 0.0000e+00 - val_fp: 0.0000e+00 - val_tn: 610.0000 - val_fn: 164.0000 - val_accuracy: 0.7881 - val_precision: 0.0000e+00 - val_recall: 0.0000e+00 - val_auc: 0.4674\n",
      "Epoch 2/5\n",
      "218/218 - 17s - loss: 0.5166 - tp: 0.0000e+00 - fp: 0.0000e+00 - tn: 5486.0000 - fn: 1474.0000 - accuracy: 0.7882 - precision: 0.0000e+00 - recall: 0.0000e+00 - auc: 0.4902 - val_loss: 0.5165 - val_tp: 0.0000e+00 - val_fp: 0.0000e+00 - val_tn: 610.0000 - val_fn: 164.0000 - val_accuracy: 0.7881 - val_precision: 0.0000e+00 - val_recall: 0.0000e+00 - val_auc: 0.4999\n",
      "Epoch 3/5\n",
      "218/218 - 18s - loss: 0.5164 - tp: 0.0000e+00 - fp: 0.0000e+00 - tn: 5486.0000 - fn: 1474.0000 - accuracy: 0.7882 - precision: 0.0000e+00 - recall: 0.0000e+00 - auc: 0.4975 - val_loss: 0.5165 - val_tp: 0.0000e+00 - val_fp: 0.0000e+00 - val_tn: 610.0000 - val_fn: 164.0000 - val_accuracy: 0.7881 - val_precision: 0.0000e+00 - val_recall: 0.0000e+00 - val_auc: 0.4992\n",
      "Epoch 4/5\n",
      "218/218 - 18s - loss: 0.5164 - tp: 0.0000e+00 - fp: 0.0000e+00 - tn: 5486.0000 - fn: 1474.0000 - accuracy: 0.7882 - precision: 0.0000e+00 - recall: 0.0000e+00 - auc: 0.4956 - val_loss: 0.5165 - val_tp: 0.0000e+00 - val_fp: 0.0000e+00 - val_tn: 610.0000 - val_fn: 164.0000 - val_accuracy: 0.7881 - val_precision: 0.0000e+00 - val_recall: 0.0000e+00 - val_auc: 0.5000\n",
      "Epoch 5/5\n",
      "218/218 - 19s - loss: 0.5164 - tp: 0.0000e+00 - fp: 0.0000e+00 - tn: 5486.0000 - fn: 1474.0000 - accuracy: 0.7882 - precision: 0.0000e+00 - recall: 0.0000e+00 - auc: 0.4999 - val_loss: 0.5165 - val_tp: 0.0000e+00 - val_fp: 0.0000e+00 - val_tn: 610.0000 - val_fn: 164.0000 - val_accuracy: 0.7881 - val_precision: 0.0000e+00 - val_recall: 0.0000e+00 - val_auc: 0.5000\n",
      "Epoch 1/5\n",
      "218/218 - 23s - loss: 0.5232 - tp: 0.0000e+00 - fp: 0.0000e+00 - tn: 6096.0000 - fn: 1638.0000 - accuracy: 0.7882 - precision: 0.0000e+00 - recall: 0.0000e+00 - auc: 0.4842 - val_loss: 0.5165 - val_tp: 0.0000e+00 - val_fp: 0.0000e+00 - val_tn: 610.0000 - val_fn: 164.0000 - val_accuracy: 0.7881 - val_precision: 0.0000e+00 - val_recall: 0.0000e+00 - val_auc: 0.4970\n",
      "Epoch 2/5\n",
      "218/218 - 17s - loss: 0.5165 - tp: 0.0000e+00 - fp: 0.0000e+00 - tn: 5486.0000 - fn: 1474.0000 - accuracy: 0.7882 - precision: 0.0000e+00 - recall: 0.0000e+00 - auc: 0.4941 - val_loss: 0.5164 - val_tp: 0.0000e+00 - val_fp: 0.0000e+00 - val_tn: 610.0000 - val_fn: 164.0000 - val_accuracy: 0.7881 - val_precision: 0.0000e+00 - val_recall: 0.0000e+00 - val_auc: 0.5000\n",
      "Epoch 3/5\n",
      "218/218 - 17s - loss: 0.5165 - tp: 0.0000e+00 - fp: 0.0000e+00 - tn: 5486.0000 - fn: 1474.0000 - accuracy: 0.7882 - precision: 0.0000e+00 - recall: 0.0000e+00 - auc: 0.4909 - val_loss: 0.5164 - val_tp: 0.0000e+00 - val_fp: 0.0000e+00 - val_tn: 610.0000 - val_fn: 164.0000 - val_accuracy: 0.7881 - val_precision: 0.0000e+00 - val_recall: 0.0000e+00 - val_auc: 0.5029\n",
      "Epoch 4/5\n",
      "218/218 - 18s - loss: 0.5165 - tp: 0.0000e+00 - fp: 0.0000e+00 - tn: 5486.0000 - fn: 1474.0000 - accuracy: 0.7882 - precision: 0.0000e+00 - recall: 0.0000e+00 - auc: 0.4859 - val_loss: 0.5164 - val_tp: 0.0000e+00 - val_fp: 0.0000e+00 - val_tn: 610.0000 - val_fn: 164.0000 - val_accuracy: 0.7881 - val_precision: 0.0000e+00 - val_recall: 0.0000e+00 - val_auc: 0.4999\n",
      "Epoch 5/5\n",
      "218/218 - 18s - loss: 0.5165 - tp: 0.0000e+00 - fp: 0.0000e+00 - tn: 5486.0000 - fn: 1474.0000 - accuracy: 0.7882 - precision: 0.0000e+00 - recall: 0.0000e+00 - auc: 0.4972 - val_loss: 0.5164 - val_tp: 0.0000e+00 - val_fp: 0.0000e+00 - val_tn: 610.0000 - val_fn: 164.0000 - val_accuracy: 0.7881 - val_precision: 0.0000e+00 - val_recall: 0.0000e+00 - val_auc: 0.5000\n",
      "Epoch 1/5\n",
      "218/218 - 24s - loss: 0.5760 - tp: 165.0000 - fp: 635.0000 - tn: 5461.0000 - fn: 1473.0000 - accuracy: 0.7274 - precision: 0.2062 - recall: 0.1007 - auc: 0.4872 - val_loss: 0.5171 - val_tp: 0.0000e+00 - val_fp: 0.0000e+00 - val_tn: 610.0000 - val_fn: 164.0000 - val_accuracy: 0.7881 - val_precision: 0.0000e+00 - val_recall: 0.0000e+00 - val_auc: 0.5041\n",
      "Epoch 2/5\n",
      "218/218 - 19s - loss: 0.5167 - tp: 0.0000e+00 - fp: 0.0000e+00 - tn: 5486.0000 - fn: 1474.0000 - accuracy: 0.7882 - precision: 0.0000e+00 - recall: 0.0000e+00 - auc: 0.4868 - val_loss: 0.5164 - val_tp: 0.0000e+00 - val_fp: 0.0000e+00 - val_tn: 610.0000 - val_fn: 164.0000 - val_accuracy: 0.7881 - val_precision: 0.0000e+00 - val_recall: 0.0000e+00 - val_auc: 0.5057\n",
      "Epoch 3/5\n",
      "218/218 - 18s - loss: 0.5165 - tp: 0.0000e+00 - fp: 0.0000e+00 - tn: 5486.0000 - fn: 1474.0000 - accuracy: 0.7882 - precision: 0.0000e+00 - recall: 0.0000e+00 - auc: 0.4879 - val_loss: 0.5164 - val_tp: 0.0000e+00 - val_fp: 0.0000e+00 - val_tn: 610.0000 - val_fn: 164.0000 - val_accuracy: 0.7881 - val_precision: 0.0000e+00 - val_recall: 0.0000e+00 - val_auc: 0.5000\n",
      "Epoch 4/5\n",
      "218/218 - 17s - loss: 0.5165 - tp: 0.0000e+00 - fp: 0.0000e+00 - tn: 5486.0000 - fn: 1474.0000 - accuracy: 0.7882 - precision: 0.0000e+00 - recall: 0.0000e+00 - auc: 0.4934 - val_loss: 0.5164 - val_tp: 0.0000e+00 - val_fp: 0.0000e+00 - val_tn: 610.0000 - val_fn: 164.0000 - val_accuracy: 0.7881 - val_precision: 0.0000e+00 - val_recall: 0.0000e+00 - val_auc: 0.5033\n",
      "Epoch 5/5\n",
      "218/218 - 18s - loss: 0.5164 - tp: 0.0000e+00 - fp: 0.0000e+00 - tn: 5486.0000 - fn: 1474.0000 - accuracy: 0.7882 - precision: 0.0000e+00 - recall: 0.0000e+00 - auc: 0.4984 - val_loss: 0.5164 - val_tp: 0.0000e+00 - val_fp: 0.0000e+00 - val_tn: 610.0000 - val_fn: 164.0000 - val_accuracy: 0.7881 - val_precision: 0.0000e+00 - val_recall: 0.0000e+00 - val_auc: 0.5451\n",
      "\n",
      "Trial 9 Complete [00h 08m 04s]\n",
      "val_accuracy: 0.7881137132644653\n",
      "\n",
      "Best val_accuracy So Far: 0.8821705460548401\n",
      "Total elapsed time: 01h 18m 19s\n",
      "\n",
      "Search: Running Trial #10\n",
      "\n",
      "Hyperparameter    |Value             |Best Value So Far \n",
      "units             |56                |16                \n",
      "activation        |tanh              |relu              \n",
      "dropout_1         |0.25              |0.45              \n",
      "optimizer         |adam              |rmsprop           \n",
      "learning_rate     |0.001             |0.001             \n",
      "\n",
      "Epoch 1/5\n",
      "218/218 - 38s - loss: 0.3955 - tp: 473.0000 - fp: 202.0000 - tn: 5894.0000 - fn: 1165.0000 - accuracy: 0.8232 - precision: 0.7007 - recall: 0.2888 - auc: 0.8011 - val_loss: 0.3135 - val_tp: 103.0000 - val_fp: 31.0000 - val_tn: 579.0000 - val_fn: 61.0000 - val_accuracy: 0.8811 - val_precision: 0.7687 - val_recall: 0.6280 - val_auc: 0.9033\n",
      "Epoch 2/5\n",
      "218/218 - 33s - loss: 0.2548 - tp: 1049.0000 - fp: 290.0000 - tn: 5196.0000 - fn: 425.0000 - accuracy: 0.8973 - precision: 0.7834 - recall: 0.7117 - auc: 0.9342 - val_loss: 0.3419 - val_tp: 94.0000 - val_fp: 34.0000 - val_tn: 576.0000 - val_fn: 70.0000 - val_accuracy: 0.8656 - val_precision: 0.7344 - val_recall: 0.5732 - val_auc: 0.8769\n",
      "Epoch 3/5\n",
      "218/218 - 30s - loss: 0.1813 - tp: 1213.0000 - fp: 236.0000 - tn: 5250.0000 - fn: 261.0000 - accuracy: 0.9286 - precision: 0.8371 - recall: 0.8229 - auc: 0.9681 - val_loss: 0.3687 - val_tp: 103.0000 - val_fp: 52.0000 - val_tn: 558.0000 - val_fn: 61.0000 - val_accuracy: 0.8540 - val_precision: 0.6645 - val_recall: 0.6280 - val_auc: 0.8698\n",
      "Epoch 4/5\n",
      "218/218 - 30s - loss: 0.1388 - tp: 1273.0000 - fp: 214.0000 - tn: 5272.0000 - fn: 201.0000 - accuracy: 0.9404 - precision: 0.8561 - recall: 0.8636 - auc: 0.9824 - val_loss: 0.4099 - val_tp: 105.0000 - val_fp: 52.0000 - val_tn: 558.0000 - val_fn: 59.0000 - val_accuracy: 0.8566 - val_precision: 0.6688 - val_recall: 0.6402 - val_auc: 0.8728\n",
      "Epoch 5/5\n",
      "218/218 - 31s - loss: 0.1172 - tp: 1290.0000 - fp: 178.0000 - tn: 5308.0000 - fn: 184.0000 - accuracy: 0.9480 - precision: 0.8787 - recall: 0.8752 - auc: 0.9879 - val_loss: 0.4634 - val_tp: 103.0000 - val_fp: 52.0000 - val_tn: 558.0000 - val_fn: 61.0000 - val_accuracy: 0.8540 - val_precision: 0.6645 - val_recall: 0.6280 - val_auc: 0.8644\n",
      "Epoch 1/5\n",
      "218/218 - 34s - loss: 0.3901 - tp: 574.0000 - fp: 263.0000 - tn: 5833.0000 - fn: 1064.0000 - accuracy: 0.8284 - precision: 0.6858 - recall: 0.3504 - auc: 0.8262 - val_loss: 0.3288 - val_tp: 80.0000 - val_fp: 29.0000 - val_tn: 581.0000 - val_fn: 84.0000 - val_accuracy: 0.8540 - val_precision: 0.7339 - val_recall: 0.4878 - val_auc: 0.8905\n",
      "Epoch 2/5\n",
      "218/218 - 31s - loss: 0.2486 - tp: 1031.0000 - fp: 273.0000 - tn: 5213.0000 - fn: 443.0000 - accuracy: 0.8971 - precision: 0.7906 - recall: 0.6995 - auc: 0.9374 - val_loss: 0.3291 - val_tp: 113.0000 - val_fp: 56.0000 - val_tn: 554.0000 - val_fn: 51.0000 - val_accuracy: 0.8618 - val_precision: 0.6686 - val_recall: 0.6890 - val_auc: 0.9074\n",
      "Epoch 3/5\n",
      "218/218 - 30s - loss: 0.1786 - tp: 1203.0000 - fp: 233.0000 - tn: 5253.0000 - fn: 271.0000 - accuracy: 0.9276 - precision: 0.8377 - recall: 0.8161 - auc: 0.9697 - val_loss: 0.3636 - val_tp: 98.0000 - val_fp: 44.0000 - val_tn: 566.0000 - val_fn: 66.0000 - val_accuracy: 0.8579 - val_precision: 0.6901 - val_recall: 0.5976 - val_auc: 0.8617\n",
      "Epoch 4/5\n",
      "218/218 - 30s - loss: 0.1417 - tp: 1265.0000 - fp: 199.0000 - tn: 5287.0000 - fn: 209.0000 - accuracy: 0.9414 - precision: 0.8641 - recall: 0.8582 - auc: 0.9815 - val_loss: 0.4125 - val_tp: 108.0000 - val_fp: 53.0000 - val_tn: 557.0000 - val_fn: 56.0000 - val_accuracy: 0.8592 - val_precision: 0.6708 - val_recall: 0.6585 - val_auc: 0.8691\n",
      "Epoch 5/5\n",
      "218/218 - 31s - loss: 0.1111 - tp: 1298.0000 - fp: 160.0000 - tn: 5326.0000 - fn: 176.0000 - accuracy: 0.9517 - precision: 0.8903 - recall: 0.8806 - auc: 0.9887 - val_loss: 0.3997 - val_tp: 116.0000 - val_fp: 45.0000 - val_tn: 565.0000 - val_fn: 48.0000 - val_accuracy: 0.8798 - val_precision: 0.7205 - val_recall: 0.7073 - val_auc: 0.8963\n",
      "Epoch 1/5\n",
      "218/218 - 39s - loss: 0.4058 - tp: 578.0000 - fp: 242.0000 - tn: 5854.0000 - fn: 1060.0000 - accuracy: 0.8317 - precision: 0.7049 - recall: 0.3529 - auc: 0.8169 - val_loss: 0.3238 - val_tp: 99.0000 - val_fp: 33.0000 - val_tn: 577.0000 - val_fn: 65.0000 - val_accuracy: 0.8734 - val_precision: 0.7500 - val_recall: 0.6037 - val_auc: 0.8977\n",
      "Epoch 2/5\n",
      "218/218 - 32s - loss: 0.2469 - tp: 1065.0000 - fp: 285.0000 - tn: 5201.0000 - fn: 409.0000 - accuracy: 0.9003 - precision: 0.7889 - recall: 0.7225 - auc: 0.9390 - val_loss: 0.3318 - val_tp: 121.0000 - val_fp: 56.0000 - val_tn: 554.0000 - val_fn: 43.0000 - val_accuracy: 0.8721 - val_precision: 0.6836 - val_recall: 0.7378 - val_auc: 0.8972\n",
      "Epoch 3/5\n",
      "218/218 - 31s - loss: 0.1775 - tp: 1201.0000 - fp: 237.0000 - tn: 5249.0000 - fn: 273.0000 - accuracy: 0.9267 - precision: 0.8352 - recall: 0.8148 - auc: 0.9704 - val_loss: 0.3743 - val_tp: 103.0000 - val_fp: 47.0000 - val_tn: 563.0000 - val_fn: 61.0000 - val_accuracy: 0.8605 - val_precision: 0.6867 - val_recall: 0.6280 - val_auc: 0.8774\n",
      "Epoch 4/5\n",
      "218/218 - 31s - loss: 0.1394 - tp: 1271.0000 - fp: 198.0000 - tn: 5288.0000 - fn: 203.0000 - accuracy: 0.9424 - precision: 0.8652 - recall: 0.8623 - auc: 0.9821 - val_loss: 0.3798 - val_tp: 126.0000 - val_fp: 73.0000 - val_tn: 537.0000 - val_fn: 38.0000 - val_accuracy: 0.8566 - val_precision: 0.6332 - val_recall: 0.7683 - val_auc: 0.8786\n",
      "Epoch 5/5\n",
      "218/218 - 32s - loss: 0.1197 - tp: 1310.0000 - fp: 190.0000 - tn: 5296.0000 - fn: 164.0000 - accuracy: 0.9491 - precision: 0.8733 - recall: 0.8887 - auc: 0.9867 - val_loss: 0.4397 - val_tp: 106.0000 - val_fp: 45.0000 - val_tn: 565.0000 - val_fn: 58.0000 - val_accuracy: 0.8669 - val_precision: 0.7020 - val_recall: 0.6463 - val_auc: 0.8627\n",
      "Epoch 1/5\n",
      "218/218 - 39s - loss: 0.3974 - tp: 546.0000 - fp: 265.0000 - tn: 5831.0000 - fn: 1092.0000 - accuracy: 0.8245 - precision: 0.6732 - recall: 0.3333 - auc: 0.8209 - val_loss: 0.3228 - val_tp: 90.0000 - val_fp: 28.0000 - val_tn: 582.0000 - val_fn: 74.0000 - val_accuracy: 0.8682 - val_precision: 0.7627 - val_recall: 0.5488 - val_auc: 0.9009\n",
      "Epoch 2/5\n",
      "218/218 - 32s - loss: 0.2407 - tp: 1056.0000 - fp: 274.0000 - tn: 5212.0000 - fn: 418.0000 - accuracy: 0.9006 - precision: 0.7940 - recall: 0.7164 - auc: 0.9431 - val_loss: 0.3415 - val_tp: 116.0000 - val_fp: 60.0000 - val_tn: 550.0000 - val_fn: 48.0000 - val_accuracy: 0.8605 - val_precision: 0.6591 - val_recall: 0.7073 - val_auc: 0.8977\n",
      "Epoch 3/5\n",
      "218/218 - 31s - loss: 0.1716 - tp: 1206.0000 - fp: 238.0000 - tn: 5248.0000 - fn: 268.0000 - accuracy: 0.9273 - precision: 0.8352 - recall: 0.8182 - auc: 0.9722 - val_loss: 0.4302 - val_tp: 99.0000 - val_fp: 32.0000 - val_tn: 578.0000 - val_fn: 65.0000 - val_accuracy: 0.8747 - val_precision: 0.7557 - val_recall: 0.6037 - val_auc: 0.8751\n",
      "Epoch 4/5\n",
      "218/218 - 31s - loss: 0.1395 - tp: 1266.0000 - fp: 197.0000 - tn: 5289.0000 - fn: 208.0000 - accuracy: 0.9418 - precision: 0.8653 - recall: 0.8589 - auc: 0.9821 - val_loss: 0.4206 - val_tp: 99.0000 - val_fp: 51.0000 - val_tn: 559.0000 - val_fn: 65.0000 - val_accuracy: 0.8501 - val_precision: 0.6600 - val_recall: 0.6037 - val_auc: 0.8758\n",
      "Epoch 5/5\n",
      "218/218 - 34s - loss: 0.1119 - tp: 1307.0000 - fp: 179.0000 - tn: 5307.0000 - fn: 167.0000 - accuracy: 0.9503 - precision: 0.8795 - recall: 0.8867 - auc: 0.9891 - val_loss: 0.4791 - val_tp: 100.0000 - val_fp: 48.0000 - val_tn: 562.0000 - val_fn: 64.0000 - val_accuracy: 0.8553 - val_precision: 0.6757 - val_recall: 0.6098 - val_auc: 0.8637\n",
      "Epoch 1/5\n",
      "218/218 - 37s - loss: 0.4154 - tp: 509.0000 - fp: 261.0000 - tn: 5835.0000 - fn: 1129.0000 - accuracy: 0.8203 - precision: 0.6610 - recall: 0.3107 - auc: 0.8011 - val_loss: 0.3353 - val_tp: 88.0000 - val_fp: 31.0000 - val_tn: 579.0000 - val_fn: 76.0000 - val_accuracy: 0.8618 - val_precision: 0.7395 - val_recall: 0.5366 - val_auc: 0.8863\n",
      "Epoch 2/5\n",
      "218/218 - 31s - loss: 0.2708 - tp: 963.0000 - fp: 246.0000 - tn: 5240.0000 - fn: 511.0000 - accuracy: 0.8912 - precision: 0.7965 - recall: 0.6533 - auc: 0.9249 - val_loss: 0.3391 - val_tp: 105.0000 - val_fp: 43.0000 - val_tn: 567.0000 - val_fn: 59.0000 - val_accuracy: 0.8682 - val_precision: 0.7095 - val_recall: 0.6402 - val_auc: 0.8859\n",
      "Epoch 3/5\n",
      "218/218 - 31s - loss: 0.2029 - tp: 1189.0000 - fp: 290.0000 - tn: 5196.0000 - fn: 285.0000 - accuracy: 0.9174 - precision: 0.8039 - recall: 0.8066 - auc: 0.9604 - val_loss: 0.3442 - val_tp: 104.0000 - val_fp: 51.0000 - val_tn: 559.0000 - val_fn: 60.0000 - val_accuracy: 0.8566 - val_precision: 0.6710 - val_recall: 0.6341 - val_auc: 0.8843\n",
      "Epoch 4/5\n",
      "218/218 - 31s - loss: 0.1760 - tp: 1190.0000 - fp: 217.0000 - tn: 5269.0000 - fn: 284.0000 - accuracy: 0.9280 - precision: 0.8458 - recall: 0.8073 - auc: 0.9710 - val_loss: 0.3907 - val_tp: 95.0000 - val_fp: 40.0000 - val_tn: 570.0000 - val_fn: 69.0000 - val_accuracy: 0.8592 - val_precision: 0.7037 - val_recall: 0.5793 - val_auc: 0.8772\n",
      "Epoch 5/5\n",
      "218/218 - 32s - loss: 0.1439 - tp: 1254.0000 - fp: 206.0000 - tn: 5280.0000 - fn: 220.0000 - accuracy: 0.9388 - precision: 0.8589 - recall: 0.8507 - auc: 0.9809 - val_loss: 0.4347 - val_tp: 107.0000 - val_fp: 52.0000 - val_tn: 558.0000 - val_fn: 57.0000 - val_accuracy: 0.8592 - val_precision: 0.6730 - val_recall: 0.6524 - val_auc: 0.8758\n",
      "\n",
      "Trial 10 Complete [00h 13m 37s]\n",
      "val_accuracy: 0.875452196598053\n",
      "\n",
      "Best val_accuracy So Far: 0.8821705460548401\n",
      "Total elapsed time: 01h 31m 57s\n",
      "INFO:tensorflow:Oracle triggered exit\n"
     ]
    }
   ],
   "source": [
    "# Tuning the model\n",
    "\n",
    "tuner.search(x=X_train_seq_padded,\n",
    "            y=y_train,\n",
    "            verbose=1,\n",
    "            epochs=25,\n",
    "            validation_data=(X_test_seq_padded, y_test))"
   ]
  },
  {
   "cell_type": "code",
   "execution_count": 123,
   "metadata": {},
   "outputs": [
    {
     "data": {
      "text/plain": [
       "{'units': 16,\n",
       " 'activation': 'relu',\n",
       " 'dropout_1': 0.45,\n",
       " 'optimizer': 'rmsprop',\n",
       " 'learning_rate': 0.001}"
      ]
     },
     "execution_count": 123,
     "metadata": {},
     "output_type": "execute_result"
    }
   ],
   "source": [
    "optimal_params = tuner.oracle.get_best_trials(num_trials=1)[0].hyperparameters.values\n",
    "optimal_params"
   ]
  },
  {
   "cell_type": "code",
   "execution_count": 124,
   "metadata": {},
   "outputs": [],
   "source": [
    "# Define and compile optimized model\n",
    "\n",
    "def create_optimized_model(units,\n",
    "                           activation,\n",
    "                           dropout_1,\n",
    "                           optimizer,\n",
    "                           learning_rate,\n",
    "                           dropout_seed = 1):\n",
    "\n",
    "    # Set up model\n",
    "    model = Sequential()\n",
    "    \n",
    "    model.add(Embedding(len(tokenizer.index_word)+1, units))\n",
    "    \n",
    "    model.add(LSTM(units))\n",
    "\n",
    "    # Tuning number of neurons in 2nd hidden layer\n",
    "    model.add(Dense(units = units,\n",
    "                    activation = activation))\n",
    "\n",
    "    if dropout_1 is not None:\n",
    "        model.add(Dropout(rate = dropout_1, seed = dropout_seed))\n",
    "    \n",
    "    model.add(Dense(1, activation = 'sigmoid'))\n",
    "    \n",
    "    # Compile model\n",
    "    model.compile(loss = 'binary_crossentropy', optimizer = optimizer, metrics = METRICS)\n",
    "    return model"
   ]
  },
  {
   "cell_type": "code",
   "execution_count": 131,
   "metadata": {},
   "outputs": [
    {
     "name": "stdout",
     "output_type": "stream",
     "text": [
      "Epoch 1/25\n",
      "218/218 [==============================] - 18s 65ms/step - loss: 0.4890 - tp: 109.6256 - fp: 54.7078 - tn: 3339.1096 - fn: 790.2648 - accuracy: 0.8085 - precision: 0.6663 - recall: 0.1678 - auc: 0.7482 - val_loss: 0.3503 - val_tp: 55.0000 - val_fp: 21.0000 - val_tn: 589.0000 - val_fn: 109.0000 - val_accuracy: 0.8320 - val_precision: 0.7237 - val_recall: 0.3354 - val_auc: 0.8977\n",
      "Epoch 2/25\n",
      "218/218 [==============================] - 16s 72ms/step - loss: 0.3329 - tp: 371.5251 - fp: 113.9315 - tn: 2656.9087 - fn: 377.3425 - accuracy: 0.8570 - precision: 0.7876 - recall: 0.4517 - auc: 0.9002 - val_loss: 0.3181 - val_tp: 105.0000 - val_fp: 40.0000 - val_tn: 570.0000 - val_fn: 59.0000 - val_accuracy: 0.8721 - val_precision: 0.7241 - val_recall: 0.6402 - val_auc: 0.9095\n",
      "Epoch 3/25\n",
      "218/218 [==============================] - 19s 85ms/step - loss: 0.2963 - tp: 547.8311 - fp: 181.2100 - tn: 2572.3927 - fn: 218.2740 - accuracy: 0.8862 - precision: 0.7662 - recall: 0.7083 - auc: 0.9232 - val_loss: 0.3258 - val_tp: 129.0000 - val_fp: 87.0000 - val_tn: 523.0000 - val_fn: 35.0000 - val_accuracy: 0.8424 - val_precision: 0.5972 - val_recall: 0.7866 - val_auc: 0.9081\n",
      "Epoch 4/25\n",
      "218/218 [==============================] - 17s 77ms/step - loss: 0.2551 - tp: 586.7306 - fp: 158.8493 - tn: 2610.4749 - fn: 163.6530 - accuracy: 0.9102 - precision: 0.7973 - recall: 0.7889 - auc: 0.9414 - val_loss: 0.3802 - val_tp: 102.0000 - val_fp: 27.0000 - val_tn: 583.0000 - val_fn: 62.0000 - val_accuracy: 0.8850 - val_precision: 0.7907 - val_recall: 0.6220 - val_auc: 0.9081\n",
      "Epoch 5/25\n",
      "218/218 [==============================] - 16s 72ms/step - loss: 0.2368 - tp: 610.7534 - fp: 173.6256 - tn: 2591.4658 - fn: 143.8630 - accuracy: 0.9104 - precision: 0.7802 - recall: 0.8028 - auc: 0.9469 - val_loss: 0.3319 - val_tp: 110.0000 - val_fp: 52.0000 - val_tn: 558.0000 - val_fn: 54.0000 - val_accuracy: 0.8630 - val_precision: 0.6790 - val_recall: 0.6707 - val_auc: 0.9064\n",
      "Epoch 6/25\n",
      "218/218 [==============================] - 16s 72ms/step - loss: 0.2139 - tp: 617.5936 - fp: 139.7534 - tn: 2635.7626 - fn: 126.5982 - accuracy: 0.9259 - precision: 0.8219 - recall: 0.8296 - auc: 0.9565 - val_loss: 0.3688 - val_tp: 91.0000 - val_fp: 34.0000 - val_tn: 576.0000 - val_fn: 73.0000 - val_accuracy: 0.8618 - val_precision: 0.7280 - val_recall: 0.5549 - val_auc: 0.8918\n",
      "Epoch 7/25\n",
      "218/218 [==============================] - 17s 77ms/step - loss: 0.2036 - tp: 624.0959 - fp: 143.9817 - tn: 2634.5068 - fn: 117.1233 - accuracy: 0.9236 - precision: 0.8052 - recall: 0.8344 - auc: 0.9595 - val_loss: 0.4649 - val_tp: 82.0000 - val_fp: 22.0000 - val_tn: 588.0000 - val_fn: 82.0000 - val_accuracy: 0.8656 - val_precision: 0.7885 - val_recall: 0.5000 - val_auc: 0.8715\n",
      "Epoch 8/25\n",
      "218/218 [==============================] - 16s 72ms/step - loss: 0.1883 - tp: 631.6256 - fp: 122.7717 - tn: 2645.5616 - fn: 119.7489 - accuracy: 0.9313 - precision: 0.8440 - recall: 0.8321 - auc: 0.9674 - val_loss: 0.3626 - val_tp: 111.0000 - val_fp: 38.0000 - val_tn: 572.0000 - val_fn: 53.0000 - val_accuracy: 0.8824 - val_precision: 0.7450 - val_recall: 0.6768 - val_auc: 0.9068\n",
      "Epoch 9/25\n",
      "218/218 [==============================] - 16s 75ms/step - loss: 0.1791 - tp: 621.4521 - fp: 125.9041 - tn: 2660.9589 - fn: 111.3927 - accuracy: 0.9321 - precision: 0.8292 - recall: 0.8473 - auc: 0.9692 - val_loss: 0.3365 - val_tp: 115.0000 - val_fp: 51.0000 - val_tn: 559.0000 - val_fn: 49.0000 - val_accuracy: 0.8708 - val_precision: 0.6928 - val_recall: 0.7012 - val_auc: 0.9047\n",
      "Epoch 10/25\n",
      "218/218 [==============================] - 18s 81ms/step - loss: 0.1610 - tp: 615.1050 - fp: 124.3836 - tn: 2677.4795 - fn: 102.7397 - accuracy: 0.9395 - precision: 0.8398 - recall: 0.8617 - auc: 0.9749 - val_loss: 0.3350 - val_tp: 121.0000 - val_fp: 55.0000 - val_tn: 555.0000 - val_fn: 43.0000 - val_accuracy: 0.8734 - val_precision: 0.6875 - val_recall: 0.7378 - val_auc: 0.9111\n",
      "Epoch 11/25\n",
      "218/218 [==============================] - 16s 73ms/step - loss: 0.1622 - tp: 649.1781 - fp: 126.6621 - tn: 2647.3242 - fn: 96.5434 - accuracy: 0.9374 - precision: 0.8403 - recall: 0.8761 - auc: 0.9761 - val_loss: 0.3937 - val_tp: 109.0000 - val_fp: 41.0000 - val_tn: 569.0000 - val_fn: 55.0000 - val_accuracy: 0.8760 - val_precision: 0.7267 - val_recall: 0.6646 - val_auc: 0.8959\n",
      "Epoch 12/25\n",
      "218/218 [==============================] - 16s 75ms/step - loss: 0.1486 - tp: 672.5297 - fp: 114.3014 - tn: 2647.8402 - fn: 85.0365 - accuracy: 0.9440 - precision: 0.8567 - recall: 0.8886 - auc: 0.9788 - val_loss: 0.4464 - val_tp: 99.0000 - val_fp: 28.0000 - val_tn: 582.0000 - val_fn: 65.0000 - val_accuracy: 0.8798 - val_precision: 0.7795 - val_recall: 0.6037 - val_auc: 0.8795\n",
      "Epoch 13/25\n",
      "218/218 [==============================] - 16s 74ms/step - loss: 0.1474 - tp: 656.8721 - fp: 104.0776 - tn: 2675.5799 - fn: 83.1781 - accuracy: 0.9475 - precision: 0.8694 - recall: 0.8872 - auc: 0.9806 - val_loss: 0.4117 - val_tp: 98.0000 - val_fp: 35.0000 - val_tn: 575.0000 - val_fn: 66.0000 - val_accuracy: 0.8695 - val_precision: 0.7368 - val_recall: 0.5976 - val_auc: 0.8828\n",
      "Epoch 14/25\n",
      "218/218 [==============================] - 17s 79ms/step - loss: 0.1358 - tp: 647.1826 - fp: 109.7580 - tn: 2676.9909 - fn: 85.7763 - accuracy: 0.9431 - precision: 0.8557 - recall: 0.8773 - auc: 0.9827 - val_loss: 0.4031 - val_tp: 137.0000 - val_fp: 106.0000 - val_tn: 504.0000 - val_fn: 27.0000 - val_accuracy: 0.8282 - val_precision: 0.5638 - val_recall: 0.8354 - val_auc: 0.9214\n",
      "Epoch 15/25\n",
      "218/218 [==============================] - 16s 75ms/step - loss: 0.1347 - tp: 690.6119 - fp: 109.1096 - tn: 2647.6849 - fn: 72.3014 - accuracy: 0.9498 - precision: 0.8657 - recall: 0.9108 - auc: 0.9832 - val_loss: 0.3770 - val_tp: 134.0000 - val_fp: 85.0000 - val_tn: 525.0000 - val_fn: 30.0000 - val_accuracy: 0.8514 - val_precision: 0.6119 - val_recall: 0.8171 - val_auc: 0.9167\n",
      "Epoch 16/25\n",
      "218/218 [==============================] - 17s 79ms/step - loss: 0.1249 - tp: 671.0365 - fp: 96.3744 - tn: 2673.8767 - fn: 78.4201 - accuracy: 0.9502 - precision: 0.8729 - recall: 0.9000 - auc: 0.9854 - val_loss: 0.4442 - val_tp: 108.0000 - val_fp: 51.0000 - val_tn: 559.0000 - val_fn: 56.0000 - val_accuracy: 0.8618 - val_precision: 0.6792 - val_recall: 0.6585 - val_auc: 0.8884\n",
      "Epoch 17/25\n",
      "218/218 [==============================] - 18s 81ms/step - loss: 0.1248 - tp: 654.2237 - fp: 95.6301 - tn: 2696.2374 - fn: 73.6164 - accuracy: 0.9527 - precision: 0.8737 - recall: 0.9017 - auc: 0.9857 - val_loss: 0.5125 - val_tp: 89.0000 - val_fp: 31.0000 - val_tn: 579.0000 - val_fn: 75.0000 - val_accuracy: 0.8630 - val_precision: 0.7417 - val_recall: 0.5427 - val_auc: 0.8622\n",
      "Epoch 18/25\n",
      "218/218 [==============================] - 17s 80ms/step - loss: 0.1250 - tp: 666.3516 - fp: 88.5845 - tn: 2683.0046 - fn: 81.7671 - accuracy: 0.9495 - precision: 0.8831 - recall: 0.8815 - auc: 0.9863 - val_loss: 0.3944 - val_tp: 122.0000 - val_fp: 60.0000 - val_tn: 550.0000 - val_fn: 42.0000 - val_accuracy: 0.8682 - val_precision: 0.6703 - val_recall: 0.7439 - val_auc: 0.9048\n",
      "Epoch 19/25\n",
      "218/218 [==============================] - 17s 76ms/step - loss: 0.1168 - tp: 682.8539 - fp: 99.5890 - tn: 2673.6986 - fn: 63.5662 - accuracy: 0.9545 - precision: 0.8714 - recall: 0.9178 - auc: 0.9865 - val_loss: 0.4174 - val_tp: 127.0000 - val_fp: 62.0000 - val_tn: 548.0000 - val_fn: 37.0000 - val_accuracy: 0.8721 - val_precision: 0.6720 - val_recall: 0.7744 - val_auc: 0.9049\n",
      "Epoch 20/25\n",
      "218/218 [==============================] - 17s 76ms/step - loss: 0.1156 - tp: 661.9361 - fp: 95.9178 - tn: 2691.0365 - fn: 70.8174 - accuracy: 0.9520 - precision: 0.8746 - recall: 0.8966 - auc: 0.9878 - val_loss: 0.5270 - val_tp: 107.0000 - val_fp: 45.0000 - val_tn: 565.0000 - val_fn: 57.0000 - val_accuracy: 0.8682 - val_precision: 0.7039 - val_recall: 0.6524 - val_auc: 0.8611\n",
      "Epoch 21/25\n",
      "218/218 [==============================] - 17s 80ms/step - loss: 0.1245 - tp: 689.7215 - fp: 95.4749 - tn: 2675.3653 - fn: 59.1461 - accuracy: 0.9560 - precision: 0.8809 - recall: 0.9200 - auc: 0.9857 - val_loss: 0.4426 - val_tp: 108.0000 - val_fp: 51.0000 - val_tn: 559.0000 - val_fn: 56.0000 - val_accuracy: 0.8618 - val_precision: 0.6792 - val_recall: 0.6585 - val_auc: 0.8832\n",
      "Epoch 22/25\n",
      "218/218 [==============================] - 17s 77ms/step - loss: 0.1070 - tp: 674.7763 - fp: 90.6575 - tn: 2689.6621 - fn: 64.6119 - accuracy: 0.9555 - precision: 0.8774 - recall: 0.9112 - auc: 0.9899 - val_loss: 0.4366 - val_tp: 117.0000 - val_fp: 61.0000 - val_tn: 549.0000 - val_fn: 47.0000 - val_accuracy: 0.8605 - val_precision: 0.6573 - val_recall: 0.7134 - val_auc: 0.8864\n",
      "Epoch 23/25\n",
      "218/218 [==============================] - 17s 76ms/step - loss: 0.1168 - tp: 694.3836 - fp: 108.5023 - tn: 2663.5205 - fn: 53.3014 - accuracy: 0.9539 - precision: 0.8655 - recall: 0.9301 - auc: 0.9884 - val_loss: 0.4284 - val_tp: 124.0000 - val_fp: 59.0000 - val_tn: 551.0000 - val_fn: 40.0000 - val_accuracy: 0.8721 - val_precision: 0.6776 - val_recall: 0.7561 - val_auc: 0.8953\n",
      "Epoch 24/25\n",
      "218/218 [==============================] - 17s 77ms/step - loss: 0.1043 - tp: 691.1461 - fp: 95.5479 - tn: 2678.5936 - fn: 54.4201 - accuracy: 0.9587 - precision: 0.8770 - recall: 0.9345 - auc: 0.9892 - val_loss: 0.4598 - val_tp: 120.0000 - val_fp: 60.0000 - val_tn: 550.0000 - val_fn: 44.0000 - val_accuracy: 0.8656 - val_precision: 0.6667 - val_recall: 0.7317 - val_auc: 0.8907\n",
      "Epoch 25/25\n",
      "218/218 [==============================] - 18s 82ms/step - loss: 0.1073 - tp: 686.1735 - fp: 93.4292 - tn: 2680.3059 - fn: 59.7991 - accuracy: 0.9549 - precision: 0.8754 - recall: 0.9176 - auc: 0.9892 - val_loss: 0.5644 - val_tp: 118.0000 - val_fp: 50.0000 - val_tn: 560.0000 - val_fn: 46.0000 - val_accuracy: 0.8760 - val_precision: 0.7024 - val_recall: 0.7195 - val_auc: 0.8716\n"
     ]
    }
   ],
   "source": [
    "# Fit the optimized model and visualize results\n",
    "\n",
    "# Create and compile the optimized model\n",
    "tb_model = create_optimized_model(**optimal_params)\n",
    "\n",
    "tb_model = tb_model.fit(X_train_seq_padded,\n",
    "                        y_train, \n",
    "                        validation_data = (X_test_seq_padded, y_test),\n",
    "                        epochs = 25,\n",
    "                        verbose = 1)         "
   ]
  },
  {
   "cell_type": "code",
   "execution_count": 132,
   "metadata": {},
   "outputs": [
    {
     "data": {
      "image/png": "[encoded data removed]",
      "text/plain": [
       "<Figure size 432x288 with 1 Axes>"
      ]
     },
     "metadata": {
      "needs_background": "light"
     },
     "output_type": "display_data"
    }
   ],
   "source": [
    "# Plot training & validation accuracy values\n",
    "plt.plot(tb_model.history['accuracy'])    #<- accuracy scores\n",
    "plt.plot(tb_model.history['val_accuracy'])#<- get val accuracy scores from dictionary\n",
    "plt.title('Model accuracy')\n",
    "plt.ylabel('Accuracy')\n",
    "plt.xlabel('Epoch')\n",
    "plt.legend(['Train', 'Val'], loc='upper left')\n",
    "plt.show()"
   ]
  },
  {
   "cell_type": "code",
   "execution_count": 133,
   "metadata": {},
   "outputs": [
    {
     "data": {
      "image/png": "[encoded data removed]",
      "text/plain": [
       "<Figure size 432x288 with 1 Axes>"
      ]
     },
     "metadata": {
      "needs_background": "light"
     },
     "output_type": "display_data"
    },
    {
     "data": {
      "image/png": "[encoded data removed]",
      "text/plain": [
       "<Figure size 432x288 with 1 Axes>"
      ]
     },
     "metadata": {
      "needs_background": "light"
     },
     "output_type": "display_data"
    },
    {
     "data": {
      "image/png": "[encoded data removed]",
      "text/plain": [
       "<Figure size 432x288 with 1 Axes>"
      ]
     },
     "metadata": {
      "needs_background": "light"
     },
     "output_type": "display_data"
    }
   ],
   "source": [
    "# Plot the evaluation metrics by each epoch for the model\n",
    "for i in ['accuracy', 'precision', 'recall']:\n",
    "    acc = tb_model.history[i]\n",
    "    val_acc = tb_model.history['val_{}'.format(i)]\n",
    "    epochs = range(1, len(acc) + 1)\n",
    "\n",
    "    plt.figure()\n",
    "    plt.plot(epochs, acc, label='Training')\n",
    "    plt.plot(epochs, val_acc, label='Validation')\n",
    "    plt.title(f'Model {i}')\n",
    "    plt.xlabel('Epoch')\n",
    "    plt.ylabel(f'{i}')\n",
    "    plt.legend()\n",
    "    plt.show()"
   ]
  },
  {
   "cell_type": "code",
   "execution_count": null,
   "metadata": {},
   "outputs": [],
   "source": []
  }
 ],
 "metadata": {
  "kernelspec": {
   "display_name": "Python 3",
   "language": "python",
   "name": "python3"
  },
  "language_info": {
   "codemirror_mode": {
    "name": "ipython",
    "version": 3
   },
   "file_extension": ".py",
   "mimetype": "text/x-python",
   "name": "python",
   "nbconvert_exporter": "python",
   "pygments_lexer": "ipython3",
   "version": "3.8.5"
  }
 },
 "nbformat": 4,
 "nbformat_minor": 4
}
